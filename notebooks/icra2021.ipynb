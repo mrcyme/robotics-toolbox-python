{
 "cells": [
  {
   "cell_type": "markdown",
   "metadata": {},
   "source": [
    "# Not your grandmother’s toolbox– the Robotics Toolbox reinvented for python\n",
    "### Peter Corke and Jesse Haviland\n",
    "\n",
    "This is the code for the examples in the paper published at ICRA2021.\n"
   ]
  },
  {
   "cell_type": "code",
   "execution_count": 1,
   "metadata": {},
   "outputs": [
    {
     "data": {
      "text/html": [
       "\n",
       "<style>\n",
       "    div#notebook-container    { width: 95%; }\n",
       "    div#menubar-container     { width: 65%; }\n",
       "    div#maintoolbar-container { width: 99%; }\n",
       "</style>\n"
      ],
      "text/plain": [
       "<IPython.core.display.HTML object>"
      ]
     },
     "metadata": {},
     "output_type": "display_data"
    }
   ],
   "source": [
    "from math import pi\n",
    "import numpy as np\n",
    "\n",
    "# display result of assignments\n",
    "%config ZMQInteractiveShell.ast_node_interactivity = 'last_expr_or_assign'\n",
    "# make NumPy display a bit nicer\n",
    "np.set_printoptions(linewidth=100, formatter={'float': lambda x: f\"{x:10.4g}\" if abs(x) > 1e-10 else f\"{0:8.4g}\"})\n",
    "# make cells nice and wide\n",
    "from IPython.display import display, HTML\n",
    "display(HTML(data=\"\"\"\n",
    "<style>\n",
    "    div#notebook-container    { width: 95%; }\n",
    "    div#menubar-container     { width: 65%; }\n",
    "    div#maintoolbar-container { width: 99%; }\n",
    "</style>\n",
    "\"\"\"))\n",
    "%matplotlib notebook"
   ]
  },
  {
   "cell_type": "markdown",
   "metadata": {},
   "source": [
    "# III.SPATIAL MATHEMATICS"
   ]
  },
  {
   "cell_type": "code",
   "execution_count": 2,
   "metadata": {},
   "outputs": [
    {
     "data": {
      "text/plain": [
       "array([[    0.9752,    -0.1987,   -0.09784,        0.5],\n",
       "       [    0.1538,     0.2896,     0.9447,        0],\n",
       "       [   -0.1593,    -0.9363,      0.313,        0],\n",
       "       [       0,        0,        0,          1]])"
      ]
     },
     "execution_count": 2,
     "metadata": {},
     "output_type": "execute_result"
    }
   ],
   "source": [
    "from spatialmath.base import *\n",
    "T = transl(0.5, 0.0, 0.0) @ rpy2tr(0.1, 0.2, 0.3, order='xyz') @ trotx(-90, 'deg')"
   ]
  },
  {
   "cell_type": "code",
   "execution_count": 3,
   "metadata": {},
   "outputs": [
    {
     "data": {
      "text/plain": [
       "  \u001b[38;5;1m 0.9752  \u001b[0m \u001b[38;5;1m-0.1987  \u001b[0m \u001b[38;5;1m-0.09784 \u001b[0m \u001b[38;5;4m 0.5     \u001b[0m  \u001b[0m\n",
       "  \u001b[38;5;1m 0.1538  \u001b[0m \u001b[38;5;1m 0.2896  \u001b[0m \u001b[38;5;1m 0.9447  \u001b[0m \u001b[38;5;4m 0       \u001b[0m  \u001b[0m\n",
       "  \u001b[38;5;1m-0.1593  \u001b[0m \u001b[38;5;1m-0.9363  \u001b[0m \u001b[38;5;1m 0.313   \u001b[0m \u001b[38;5;4m 0       \u001b[0m  \u001b[0m\n",
       "  \u001b[38;5;244m 0       \u001b[0m \u001b[38;5;244m 0       \u001b[0m \u001b[38;5;244m 0       \u001b[0m \u001b[38;5;244m 1       \u001b[0m  \u001b[0m\n"
      ]
     },
     "execution_count": 3,
     "metadata": {},
     "output_type": "execute_result"
    }
   ],
   "source": [
    "from spatialmath import *\n",
    "T = SE3(0.5, 0.0, 0.0) * SE3.RPY([0.1, 0.2, 0.3], order='xyz') * SE3.Rx(-90, unit='deg')"
   ]
  },
  {
   "cell_type": "code",
   "execution_count": 4,
   "metadata": {},
   "outputs": [
    {
     "data": {
      "text/plain": [
       "array([     1.674,      1.252,     -1.402])"
      ]
     },
     "execution_count": 4,
     "metadata": {},
     "output_type": "execute_result"
    }
   ],
   "source": [
    "T.eul()"
   ]
  },
  {
   "cell_type": "code",
   "execution_count": 5,
   "metadata": {},
   "outputs": [
    {
     "data": {
      "text/plain": [
       "array([[    0.9752,    -0.1987,   -0.09784],\n",
       "       [    0.1538,     0.2896,     0.9447],\n",
       "       [   -0.1593,    -0.9363,      0.313]])"
      ]
     },
     "execution_count": 5,
     "metadata": {},
     "output_type": "execute_result"
    }
   ],
   "source": [
    "T.R"
   ]
  },
  {
   "cell_type": "code",
   "execution_count": 6,
   "metadata": {},
   "outputs": [
    {
     "data": {
      "application/javascript": "/* Put everything inside the global mpl namespace */\n/* global mpl */\nwindow.mpl = {};\n\nmpl.get_websocket_type = function () {\n    if (typeof WebSocket !== 'undefined') {\n        return WebSocket;\n    } else if (typeof MozWebSocket !== 'undefined') {\n        return MozWebSocket;\n    } else {\n        alert(\n            'Your browser does not have WebSocket support. ' +\n                'Please try Chrome, Safari or Firefox ≥ 6. ' +\n                'Firefox 4 and 5 are also supported but you ' +\n                'have to enable WebSockets in about:config.'\n        );\n    }\n};\n\nmpl.figure = function (figure_id, websocket, ondownload, parent_element) {\n    this.id = figure_id;\n\n    this.ws = websocket;\n\n    this.supports_binary = this.ws.binaryType !== undefined;\n\n    if (!this.supports_binary) {\n        var warnings = document.getElementById('mpl-warnings');\n        if (warnings) {\n            warnings.style.display = 'block';\n            warnings.textContent =\n                'This browser does not support binary websocket messages. ' +\n                'Performance may be slow.';\n        }\n    }\n\n    this.imageObj = new Image();\n\n    this.context = undefined;\n    this.message = undefined;\n    this.canvas = undefined;\n    this.rubberband_canvas = undefined;\n    this.rubberband_context = undefined;\n    this.format_dropdown = undefined;\n\n    this.image_mode = 'full';\n\n    this.root = document.createElement('div');\n    this.root.setAttribute('style', 'display: inline-block');\n    this._root_extra_style(this.root);\n\n    parent_element.appendChild(this.root);\n\n    this._init_header(this);\n    this._init_canvas(this);\n    this._init_toolbar(this);\n\n    var fig = this;\n\n    this.waiting = false;\n\n    this.ws.onopen = function () {\n        fig.send_message('supports_binary', { value: fig.supports_binary });\n        fig.send_message('send_image_mode', {});\n        if (fig.ratio !== 1) {\n            fig.send_message('set_device_pixel_ratio', {\n                device_pixel_ratio: fig.ratio,\n            });\n        }\n        fig.send_message('refresh', {});\n    };\n\n    this.imageObj.onload = function () {\n        if (fig.image_mode === 'full') {\n            // Full images could contain transparency (where diff images\n            // almost always do), so we need to clear the canvas so that\n            // there is no ghosting.\n            fig.context.clearRect(0, 0, fig.canvas.width, fig.canvas.height);\n        }\n        fig.context.drawImage(fig.imageObj, 0, 0);\n    };\n\n    this.imageObj.onunload = function () {\n        fig.ws.close();\n    };\n\n    this.ws.onmessage = this._make_on_message_function(this);\n\n    this.ondownload = ondownload;\n};\n\nmpl.figure.prototype._init_header = function () {\n    var titlebar = document.createElement('div');\n    titlebar.classList =\n        'ui-dialog-titlebar ui-widget-header ui-corner-all ui-helper-clearfix';\n    var titletext = document.createElement('div');\n    titletext.classList = 'ui-dialog-title';\n    titletext.setAttribute(\n        'style',\n        'width: 100%; text-align: center; padding: 3px;'\n    );\n    titlebar.appendChild(titletext);\n    this.root.appendChild(titlebar);\n    this.header = titletext;\n};\n\nmpl.figure.prototype._canvas_extra_style = function (_canvas_div) {};\n\nmpl.figure.prototype._root_extra_style = function (_canvas_div) {};\n\nmpl.figure.prototype._init_canvas = function () {\n    var fig = this;\n\n    var canvas_div = (this.canvas_div = document.createElement('div'));\n    canvas_div.setAttribute('tabindex', '0');\n    canvas_div.setAttribute(\n        'style',\n        'border: 1px solid #ddd;' +\n            'box-sizing: content-box;' +\n            'clear: both;' +\n            'min-height: 1px;' +\n            'min-width: 1px;' +\n            'outline: 0;' +\n            'overflow: hidden;' +\n            'position: relative;' +\n            'resize: both;' +\n            'z-index: 2;'\n    );\n\n    function on_keyboard_event_closure(name) {\n        return function (event) {\n            return fig.key_event(event, name);\n        };\n    }\n\n    canvas_div.addEventListener(\n        'keydown',\n        on_keyboard_event_closure('key_press')\n    );\n    canvas_div.addEventListener(\n        'keyup',\n        on_keyboard_event_closure('key_release')\n    );\n\n    this._canvas_extra_style(canvas_div);\n    this.root.appendChild(canvas_div);\n\n    var canvas = (this.canvas = document.createElement('canvas'));\n    canvas.classList.add('mpl-canvas');\n    canvas.setAttribute(\n        'style',\n        'box-sizing: content-box;' +\n            'pointer-events: none;' +\n            'position: relative;' +\n            'z-index: 0;'\n    );\n\n    this.context = canvas.getContext('2d');\n\n    var backingStore =\n        this.context.backingStorePixelRatio ||\n        this.context.webkitBackingStorePixelRatio ||\n        this.context.mozBackingStorePixelRatio ||\n        this.context.msBackingStorePixelRatio ||\n        this.context.oBackingStorePixelRatio ||\n        this.context.backingStorePixelRatio ||\n        1;\n\n    this.ratio = (window.devicePixelRatio || 1) / backingStore;\n\n    var rubberband_canvas = (this.rubberband_canvas = document.createElement(\n        'canvas'\n    ));\n    rubberband_canvas.setAttribute(\n        'style',\n        'box-sizing: content-box;' +\n            'left: 0;' +\n            'pointer-events: none;' +\n            'position: absolute;' +\n            'top: 0;' +\n            'z-index: 1;'\n    );\n\n    // Apply a ponyfill if ResizeObserver is not implemented by browser.\n    if (this.ResizeObserver === undefined) {\n        if (window.ResizeObserver !== undefined) {\n            this.ResizeObserver = window.ResizeObserver;\n        } else {\n            var obs = _JSXTOOLS_RESIZE_OBSERVER({});\n            this.ResizeObserver = obs.ResizeObserver;\n        }\n    }\n\n    this.resizeObserverInstance = new this.ResizeObserver(function (entries) {\n        var nentries = entries.length;\n        for (var i = 0; i < nentries; i++) {\n            var entry = entries[i];\n            var width, height;\n            if (entry.contentBoxSize) {\n                if (entry.contentBoxSize instanceof Array) {\n                    // Chrome 84 implements new version of spec.\n                    width = entry.contentBoxSize[0].inlineSize;\n                    height = entry.contentBoxSize[0].blockSize;\n                } else {\n                    // Firefox implements old version of spec.\n                    width = entry.contentBoxSize.inlineSize;\n                    height = entry.contentBoxSize.blockSize;\n                }\n            } else {\n                // Chrome <84 implements even older version of spec.\n                width = entry.contentRect.width;\n                height = entry.contentRect.height;\n            }\n\n            // Keep the size of the canvas and rubber band canvas in sync with\n            // the canvas container.\n            if (entry.devicePixelContentBoxSize) {\n                // Chrome 84 implements new version of spec.\n                canvas.setAttribute(\n                    'width',\n                    entry.devicePixelContentBoxSize[0].inlineSize\n                );\n                canvas.setAttribute(\n                    'height',\n                    entry.devicePixelContentBoxSize[0].blockSize\n                );\n            } else {\n                canvas.setAttribute('width', width * fig.ratio);\n                canvas.setAttribute('height', height * fig.ratio);\n            }\n            /* This rescales the canvas back to display pixels, so that it\n             * appears correct on HiDPI screens. */\n            canvas.style.width = width + 'px';\n            canvas.style.height = height + 'px';\n\n            rubberband_canvas.setAttribute('width', width);\n            rubberband_canvas.setAttribute('height', height);\n\n            // And update the size in Python. We ignore the initial 0/0 size\n            // that occurs as the element is placed into the DOM, which should\n            // otherwise not happen due to the minimum size styling.\n            if (fig.ws.readyState == 1 && width != 0 && height != 0) {\n                fig.request_resize(width, height);\n            }\n        }\n    });\n    this.resizeObserverInstance.observe(canvas_div);\n\n    function on_mouse_event_closure(name) {\n        /* User Agent sniffing is bad, but WebKit is busted:\n         * https://bugs.webkit.org/show_bug.cgi?id=144526\n         * https://bugs.webkit.org/show_bug.cgi?id=181818\n         * The worst that happens here is that they get an extra browser\n         * selection when dragging, if this check fails to catch them.\n         */\n        var UA = navigator.userAgent;\n        var isWebKit = /AppleWebKit/.test(UA) && !/Chrome/.test(UA);\n        if(isWebKit) {\n            return function (event) {\n                /* This prevents the web browser from automatically changing to\n                 * the text insertion cursor when the button is pressed. We\n                 * want to control all of the cursor setting manually through\n                 * the 'cursor' event from matplotlib */\n                event.preventDefault()\n                return fig.mouse_event(event, name);\n            };\n        } else {\n            return function (event) {\n                return fig.mouse_event(event, name);\n            };\n        }\n    }\n\n    canvas_div.addEventListener(\n        'mousedown',\n        on_mouse_event_closure('button_press')\n    );\n    canvas_div.addEventListener(\n        'mouseup',\n        on_mouse_event_closure('button_release')\n    );\n    canvas_div.addEventListener(\n        'dblclick',\n        on_mouse_event_closure('dblclick')\n    );\n    // Throttle sequential mouse events to 1 every 20ms.\n    canvas_div.addEventListener(\n        'mousemove',\n        on_mouse_event_closure('motion_notify')\n    );\n\n    canvas_div.addEventListener(\n        'mouseenter',\n        on_mouse_event_closure('figure_enter')\n    );\n    canvas_div.addEventListener(\n        'mouseleave',\n        on_mouse_event_closure('figure_leave')\n    );\n\n    canvas_div.addEventListener('wheel', function (event) {\n        if (event.deltaY < 0) {\n            event.step = 1;\n        } else {\n            event.step = -1;\n        }\n        on_mouse_event_closure('scroll')(event);\n    });\n\n    canvas_div.appendChild(canvas);\n    canvas_div.appendChild(rubberband_canvas);\n\n    this.rubberband_context = rubberband_canvas.getContext('2d');\n    this.rubberband_context.strokeStyle = '#000000';\n\n    this._resize_canvas = function (width, height, forward) {\n        if (forward) {\n            canvas_div.style.width = width + 'px';\n            canvas_div.style.height = height + 'px';\n        }\n    };\n\n    // Disable right mouse context menu.\n    canvas_div.addEventListener('contextmenu', function (_e) {\n        event.preventDefault();\n        return false;\n    });\n\n    function set_focus() {\n        canvas.focus();\n        canvas_div.focus();\n    }\n\n    window.setTimeout(set_focus, 100);\n};\n\nmpl.figure.prototype._init_toolbar = function () {\n    var fig = this;\n\n    var toolbar = document.createElement('div');\n    toolbar.classList = 'mpl-toolbar';\n    this.root.appendChild(toolbar);\n\n    function on_click_closure(name) {\n        return function (_event) {\n            return fig.toolbar_button_onclick(name);\n        };\n    }\n\n    function on_mouseover_closure(tooltip) {\n        return function (event) {\n            if (!event.currentTarget.disabled) {\n                return fig.toolbar_button_onmouseover(tooltip);\n            }\n        };\n    }\n\n    fig.buttons = {};\n    var buttonGroup = document.createElement('div');\n    buttonGroup.classList = 'mpl-button-group';\n    for (var toolbar_ind in mpl.toolbar_items) {\n        var name = mpl.toolbar_items[toolbar_ind][0];\n        var tooltip = mpl.toolbar_items[toolbar_ind][1];\n        var image = mpl.toolbar_items[toolbar_ind][2];\n        var method_name = mpl.toolbar_items[toolbar_ind][3];\n\n        if (!name) {\n            /* Instead of a spacer, we start a new button group. */\n            if (buttonGroup.hasChildNodes()) {\n                toolbar.appendChild(buttonGroup);\n            }\n            buttonGroup = document.createElement('div');\n            buttonGroup.classList = 'mpl-button-group';\n            continue;\n        }\n\n        var button = (fig.buttons[name] = document.createElement('button'));\n        button.classList = 'mpl-widget';\n        button.setAttribute('role', 'button');\n        button.setAttribute('aria-disabled', 'false');\n        button.addEventListener('click', on_click_closure(method_name));\n        button.addEventListener('mouseover', on_mouseover_closure(tooltip));\n\n        var icon_img = document.createElement('img');\n        icon_img.src = '_images/' + image + '.png';\n        icon_img.srcset = '_images/' + image + '_large.png 2x';\n        icon_img.alt = tooltip;\n        button.appendChild(icon_img);\n\n        buttonGroup.appendChild(button);\n    }\n\n    if (buttonGroup.hasChildNodes()) {\n        toolbar.appendChild(buttonGroup);\n    }\n\n    var fmt_picker = document.createElement('select');\n    fmt_picker.classList = 'mpl-widget';\n    toolbar.appendChild(fmt_picker);\n    this.format_dropdown = fmt_picker;\n\n    for (var ind in mpl.extensions) {\n        var fmt = mpl.extensions[ind];\n        var option = document.createElement('option');\n        option.selected = fmt === mpl.default_extension;\n        option.innerHTML = fmt;\n        fmt_picker.appendChild(option);\n    }\n\n    var status_bar = document.createElement('span');\n    status_bar.classList = 'mpl-message';\n    toolbar.appendChild(status_bar);\n    this.message = status_bar;\n};\n\nmpl.figure.prototype.request_resize = function (x_pixels, y_pixels) {\n    // Request matplotlib to resize the figure. Matplotlib will then trigger a resize in the client,\n    // which will in turn request a refresh of the image.\n    this.send_message('resize', { width: x_pixels, height: y_pixels });\n};\n\nmpl.figure.prototype.send_message = function (type, properties) {\n    properties['type'] = type;\n    properties['figure_id'] = this.id;\n    this.ws.send(JSON.stringify(properties));\n};\n\nmpl.figure.prototype.send_draw_message = function () {\n    if (!this.waiting) {\n        this.waiting = true;\n        this.ws.send(JSON.stringify({ type: 'draw', figure_id: this.id }));\n    }\n};\n\nmpl.figure.prototype.handle_save = function (fig, _msg) {\n    var format_dropdown = fig.format_dropdown;\n    var format = format_dropdown.options[format_dropdown.selectedIndex].value;\n    fig.ondownload(fig, format);\n};\n\nmpl.figure.prototype.handle_resize = function (fig, msg) {\n    var size = msg['size'];\n    if (size[0] !== fig.canvas.width || size[1] !== fig.canvas.height) {\n        fig._resize_canvas(size[0], size[1], msg['forward']);\n        fig.send_message('refresh', {});\n    }\n};\n\nmpl.figure.prototype.handle_rubberband = function (fig, msg) {\n    var x0 = msg['x0'] / fig.ratio;\n    var y0 = (fig.canvas.height - msg['y0']) / fig.ratio;\n    var x1 = msg['x1'] / fig.ratio;\n    var y1 = (fig.canvas.height - msg['y1']) / fig.ratio;\n    x0 = Math.floor(x0) + 0.5;\n    y0 = Math.floor(y0) + 0.5;\n    x1 = Math.floor(x1) + 0.5;\n    y1 = Math.floor(y1) + 0.5;\n    var min_x = Math.min(x0, x1);\n    var min_y = Math.min(y0, y1);\n    var width = Math.abs(x1 - x0);\n    var height = Math.abs(y1 - y0);\n\n    fig.rubberband_context.clearRect(\n        0,\n        0,\n        fig.canvas.width / fig.ratio,\n        fig.canvas.height / fig.ratio\n    );\n\n    fig.rubberband_context.strokeRect(min_x, min_y, width, height);\n};\n\nmpl.figure.prototype.handle_figure_label = function (fig, msg) {\n    // Updates the figure title.\n    fig.header.textContent = msg['label'];\n};\n\nmpl.figure.prototype.handle_cursor = function (fig, msg) {\n    fig.canvas_div.style.cursor = msg['cursor'];\n};\n\nmpl.figure.prototype.handle_message = function (fig, msg) {\n    fig.message.textContent = msg['message'];\n};\n\nmpl.figure.prototype.handle_draw = function (fig, _msg) {\n    // Request the server to send over a new figure.\n    fig.send_draw_message();\n};\n\nmpl.figure.prototype.handle_image_mode = function (fig, msg) {\n    fig.image_mode = msg['mode'];\n};\n\nmpl.figure.prototype.handle_history_buttons = function (fig, msg) {\n    for (var key in msg) {\n        if (!(key in fig.buttons)) {\n            continue;\n        }\n        fig.buttons[key].disabled = !msg[key];\n        fig.buttons[key].setAttribute('aria-disabled', !msg[key]);\n    }\n};\n\nmpl.figure.prototype.handle_navigate_mode = function (fig, msg) {\n    if (msg['mode'] === 'PAN') {\n        fig.buttons['Pan'].classList.add('active');\n        fig.buttons['Zoom'].classList.remove('active');\n    } else if (msg['mode'] === 'ZOOM') {\n        fig.buttons['Pan'].classList.remove('active');\n        fig.buttons['Zoom'].classList.add('active');\n    } else {\n        fig.buttons['Pan'].classList.remove('active');\n        fig.buttons['Zoom'].classList.remove('active');\n    }\n};\n\nmpl.figure.prototype.updated_canvas_event = function () {\n    // Called whenever the canvas gets updated.\n    this.send_message('ack', {});\n};\n\n// A function to construct a web socket function for onmessage handling.\n// Called in the figure constructor.\nmpl.figure.prototype._make_on_message_function = function (fig) {\n    return function socket_on_message(evt) {\n        if (evt.data instanceof Blob) {\n            var img = evt.data;\n            if (img.type !== 'image/png') {\n                /* FIXME: We get \"Resource interpreted as Image but\n                 * transferred with MIME type text/plain:\" errors on\n                 * Chrome.  But how to set the MIME type?  It doesn't seem\n                 * to be part of the websocket stream */\n                img.type = 'image/png';\n            }\n\n            /* Free the memory for the previous frames */\n            if (fig.imageObj.src) {\n                (window.URL || window.webkitURL).revokeObjectURL(\n                    fig.imageObj.src\n                );\n            }\n\n            fig.imageObj.src = (window.URL || window.webkitURL).createObjectURL(\n                img\n            );\n            fig.updated_canvas_event();\n            fig.waiting = false;\n            return;\n        } else if (\n            typeof evt.data === 'string' &&\n            evt.data.slice(0, 21) === 'data:image/png;base64'\n        ) {\n            fig.imageObj.src = evt.data;\n            fig.updated_canvas_event();\n            fig.waiting = false;\n            return;\n        }\n\n        var msg = JSON.parse(evt.data);\n        var msg_type = msg['type'];\n\n        // Call the  \"handle_{type}\" callback, which takes\n        // the figure and JSON message as its only arguments.\n        try {\n            var callback = fig['handle_' + msg_type];\n        } catch (e) {\n            console.log(\n                \"No handler for the '\" + msg_type + \"' message type: \",\n                msg\n            );\n            return;\n        }\n\n        if (callback) {\n            try {\n                // console.log(\"Handling '\" + msg_type + \"' message: \", msg);\n                callback(fig, msg);\n            } catch (e) {\n                console.log(\n                    \"Exception inside the 'handler_\" + msg_type + \"' callback:\",\n                    e,\n                    e.stack,\n                    msg\n                );\n            }\n        }\n    };\n};\n\nfunction getModifiers(event) {\n    var mods = [];\n    if (event.ctrlKey) {\n        mods.push('ctrl');\n    }\n    if (event.altKey) {\n        mods.push('alt');\n    }\n    if (event.shiftKey) {\n        mods.push('shift');\n    }\n    if (event.metaKey) {\n        mods.push('meta');\n    }\n    return mods;\n}\n\n/*\n * return a copy of an object with only non-object keys\n * we need this to avoid circular references\n * https://stackoverflow.com/a/24161582/3208463\n */\nfunction simpleKeys(original) {\n    return Object.keys(original).reduce(function (obj, key) {\n        if (typeof original[key] !== 'object') {\n            obj[key] = original[key];\n        }\n        return obj;\n    }, {});\n}\n\nmpl.figure.prototype.mouse_event = function (event, name) {\n    if (name === 'button_press') {\n        this.canvas.focus();\n        this.canvas_div.focus();\n    }\n\n    // from https://stackoverflow.com/q/1114465\n    var boundingRect = this.canvas.getBoundingClientRect();\n    var x = (event.clientX - boundingRect.left) * this.ratio;\n    var y = (event.clientY - boundingRect.top) * this.ratio;\n\n    this.send_message(name, {\n        x: x,\n        y: y,\n        button: event.button,\n        step: event.step,\n        modifiers: getModifiers(event),\n        guiEvent: simpleKeys(event),\n    });\n\n    return false;\n};\n\nmpl.figure.prototype._key_event_extra = function (_event, _name) {\n    // Handle any extra behaviour associated with a key event\n};\n\nmpl.figure.prototype.key_event = function (event, name) {\n    // Prevent repeat events\n    if (name === 'key_press') {\n        if (event.key === this._key) {\n            return;\n        } else {\n            this._key = event.key;\n        }\n    }\n    if (name === 'key_release') {\n        this._key = null;\n    }\n\n    var value = '';\n    if (event.ctrlKey && event.key !== 'Control') {\n        value += 'ctrl+';\n    }\n    else if (event.altKey && event.key !== 'Alt') {\n        value += 'alt+';\n    }\n    else if (event.shiftKey && event.key !== 'Shift') {\n        value += 'shift+';\n    }\n\n    value += 'k' + event.key;\n\n    this._key_event_extra(event, name);\n\n    this.send_message(name, { key: value, guiEvent: simpleKeys(event) });\n    return false;\n};\n\nmpl.figure.prototype.toolbar_button_onclick = function (name) {\n    if (name === 'download') {\n        this.handle_save(this, null);\n    } else {\n        this.send_message('toolbar_button', { name: name });\n    }\n};\n\nmpl.figure.prototype.toolbar_button_onmouseover = function (tooltip) {\n    this.message.textContent = tooltip;\n};\n\n///////////////// REMAINING CONTENT GENERATED BY embed_js.py /////////////////\n// prettier-ignore\nvar _JSXTOOLS_RESIZE_OBSERVER=function(A){var t,i=new WeakMap,n=new WeakMap,a=new WeakMap,r=new WeakMap,o=new Set;function s(e){if(!(this instanceof s))throw new TypeError(\"Constructor requires 'new' operator\");i.set(this,e)}function h(){throw new TypeError(\"Function is not a constructor\")}function c(e,t,i,n){e=0 in arguments?Number(arguments[0]):0,t=1 in arguments?Number(arguments[1]):0,i=2 in arguments?Number(arguments[2]):0,n=3 in arguments?Number(arguments[3]):0,this.right=(this.x=this.left=e)+(this.width=i),this.bottom=(this.y=this.top=t)+(this.height=n),Object.freeze(this)}function d(){t=requestAnimationFrame(d);var s=new WeakMap,p=new Set;o.forEach((function(t){r.get(t).forEach((function(i){var r=t instanceof window.SVGElement,o=a.get(t),d=r?0:parseFloat(o.paddingTop),f=r?0:parseFloat(o.paddingRight),l=r?0:parseFloat(o.paddingBottom),u=r?0:parseFloat(o.paddingLeft),g=r?0:parseFloat(o.borderTopWidth),m=r?0:parseFloat(o.borderRightWidth),w=r?0:parseFloat(o.borderBottomWidth),b=u+f,F=d+l,v=(r?0:parseFloat(o.borderLeftWidth))+m,W=g+w,y=r?0:t.offsetHeight-W-t.clientHeight,E=r?0:t.offsetWidth-v-t.clientWidth,R=b+v,z=F+W,M=r?t.width:parseFloat(o.width)-R-E,O=r?t.height:parseFloat(o.height)-z-y;if(n.has(t)){var k=n.get(t);if(k[0]===M&&k[1]===O)return}n.set(t,[M,O]);var S=Object.create(h.prototype);S.target=t,S.contentRect=new c(u,d,M,O),s.has(i)||(s.set(i,[]),p.add(i)),s.get(i).push(S)}))})),p.forEach((function(e){i.get(e).call(e,s.get(e),e)}))}return s.prototype.observe=function(i){if(i instanceof window.Element){r.has(i)||(r.set(i,new Set),o.add(i),a.set(i,window.getComputedStyle(i)));var n=r.get(i);n.has(this)||n.add(this),cancelAnimationFrame(t),t=requestAnimationFrame(d)}},s.prototype.unobserve=function(i){if(i instanceof window.Element&&r.has(i)){var n=r.get(i);n.has(this)&&(n.delete(this),n.size||(r.delete(i),o.delete(i))),n.size||r.delete(i),o.size||cancelAnimationFrame(t)}},A.DOMRectReadOnly=c,A.ResizeObserver=s,A.ResizeObserverEntry=h,A}; // eslint-disable-line\nmpl.toolbar_items = [[\"Home\", \"Reset original view\", \"fa fa-home\", \"home\"], [\"Back\", \"Back to previous view\", \"fa fa-arrow-left\", \"back\"], [\"Forward\", \"Forward to next view\", \"fa fa-arrow-right\", \"forward\"], [\"\", \"\", \"\", \"\"], [\"Pan\", \"Left button pans, Right button zooms\\nx/y fixes axis, CTRL fixes aspect\", \"fa fa-arrows\", \"pan\"], [\"Zoom\", \"Zoom to rectangle\\nx/y fixes axis\", \"fa fa-square-o\", \"zoom\"], [\"\", \"\", \"\", \"\"], [\"Download\", \"Download plot\", \"fa fa-floppy-o\", \"download\"]];\n\nmpl.extensions = [\"eps\", \"jpeg\", \"pgf\", \"pdf\", \"png\", \"ps\", \"raw\", \"svg\", \"tif\", \"webp\"];\n\nmpl.default_extension = \"png\";/* global mpl */\n\nvar comm_websocket_adapter = function (comm) {\n    // Create a \"websocket\"-like object which calls the given IPython comm\n    // object with the appropriate methods. Currently this is a non binary\n    // socket, so there is still some room for performance tuning.\n    var ws = {};\n\n    ws.binaryType = comm.kernel.ws.binaryType;\n    ws.readyState = comm.kernel.ws.readyState;\n    function updateReadyState(_event) {\n        if (comm.kernel.ws) {\n            ws.readyState = comm.kernel.ws.readyState;\n        } else {\n            ws.readyState = 3; // Closed state.\n        }\n    }\n    comm.kernel.ws.addEventListener('open', updateReadyState);\n    comm.kernel.ws.addEventListener('close', updateReadyState);\n    comm.kernel.ws.addEventListener('error', updateReadyState);\n\n    ws.close = function () {\n        comm.close();\n    };\n    ws.send = function (m) {\n        //console.log('sending', m);\n        comm.send(m);\n    };\n    // Register the callback with on_msg.\n    comm.on_msg(function (msg) {\n        //console.log('receiving', msg['content']['data'], msg);\n        var data = msg['content']['data'];\n        if (data['blob'] !== undefined) {\n            data = {\n                data: new Blob(msg['buffers'], { type: data['blob'] }),\n            };\n        }\n        // Pass the mpl event to the overridden (by mpl) onmessage function.\n        ws.onmessage(data);\n    });\n    return ws;\n};\n\nmpl.mpl_figure_comm = function (comm, msg) {\n    // This is the function which gets called when the mpl process\n    // starts-up an IPython Comm through the \"matplotlib\" channel.\n\n    var id = msg.content.data.id;\n    // Get hold of the div created by the display call when the Comm\n    // socket was opened in Python.\n    var element = document.getElementById(id);\n    var ws_proxy = comm_websocket_adapter(comm);\n\n    function ondownload(figure, _format) {\n        window.open(figure.canvas.toDataURL());\n    }\n\n    var fig = new mpl.figure(id, ws_proxy, ondownload, element);\n\n    // Call onopen now - mpl needs it, as it is assuming we've passed it a real\n    // web socket which is closed, not our websocket->open comm proxy.\n    ws_proxy.onopen();\n\n    fig.parent_element = element;\n    fig.cell_info = mpl.find_output_cell(\"<div id='\" + id + \"'></div>\");\n    if (!fig.cell_info) {\n        console.error('Failed to find cell for figure', id, fig);\n        return;\n    }\n    fig.cell_info[0].output_area.element.on(\n        'cleared',\n        { fig: fig },\n        fig._remove_fig_handler\n    );\n};\n\nmpl.figure.prototype.handle_close = function (fig, msg) {\n    var width = fig.canvas.width / fig.ratio;\n    fig.cell_info[0].output_area.element.off(\n        'cleared',\n        fig._remove_fig_handler\n    );\n    fig.resizeObserverInstance.unobserve(fig.canvas_div);\n\n    // Update the output cell to use the data from the current canvas.\n    fig.push_to_output();\n    var dataURL = fig.canvas.toDataURL();\n    // Re-enable the keyboard manager in IPython - without this line, in FF,\n    // the notebook keyboard shortcuts fail.\n    IPython.keyboard_manager.enable();\n    fig.parent_element.innerHTML =\n        '<img src=\"' + dataURL + '\" width=\"' + width + '\">';\n    fig.close_ws(fig, msg);\n};\n\nmpl.figure.prototype.close_ws = function (fig, msg) {\n    fig.send_message('closing', msg);\n    // fig.ws.close()\n};\n\nmpl.figure.prototype.push_to_output = function (_remove_interactive) {\n    // Turn the data on the canvas into data in the output cell.\n    var width = this.canvas.width / this.ratio;\n    var dataURL = this.canvas.toDataURL();\n    this.cell_info[1]['text/html'] =\n        '<img src=\"' + dataURL + '\" width=\"' + width + '\">';\n};\n\nmpl.figure.prototype.updated_canvas_event = function () {\n    // Tell IPython that the notebook contents must change.\n    IPython.notebook.set_dirty(true);\n    this.send_message('ack', {});\n    var fig = this;\n    // Wait a second, then push the new image to the DOM so\n    // that it is saved nicely (might be nice to debounce this).\n    setTimeout(function () {\n        fig.push_to_output();\n    }, 1000);\n};\n\nmpl.figure.prototype._init_toolbar = function () {\n    var fig = this;\n\n    var toolbar = document.createElement('div');\n    toolbar.classList = 'btn-toolbar';\n    this.root.appendChild(toolbar);\n\n    function on_click_closure(name) {\n        return function (_event) {\n            return fig.toolbar_button_onclick(name);\n        };\n    }\n\n    function on_mouseover_closure(tooltip) {\n        return function (event) {\n            if (!event.currentTarget.disabled) {\n                return fig.toolbar_button_onmouseover(tooltip);\n            }\n        };\n    }\n\n    fig.buttons = {};\n    var buttonGroup = document.createElement('div');\n    buttonGroup.classList = 'btn-group';\n    var button;\n    for (var toolbar_ind in mpl.toolbar_items) {\n        var name = mpl.toolbar_items[toolbar_ind][0];\n        var tooltip = mpl.toolbar_items[toolbar_ind][1];\n        var image = mpl.toolbar_items[toolbar_ind][2];\n        var method_name = mpl.toolbar_items[toolbar_ind][3];\n\n        if (!name) {\n            /* Instead of a spacer, we start a new button group. */\n            if (buttonGroup.hasChildNodes()) {\n                toolbar.appendChild(buttonGroup);\n            }\n            buttonGroup = document.createElement('div');\n            buttonGroup.classList = 'btn-group';\n            continue;\n        }\n\n        button = fig.buttons[name] = document.createElement('button');\n        button.classList = 'btn btn-default';\n        button.href = '#';\n        button.title = name;\n        button.innerHTML = '<i class=\"fa ' + image + ' fa-lg\"></i>';\n        button.addEventListener('click', on_click_closure(method_name));\n        button.addEventListener('mouseover', on_mouseover_closure(tooltip));\n        buttonGroup.appendChild(button);\n    }\n\n    if (buttonGroup.hasChildNodes()) {\n        toolbar.appendChild(buttonGroup);\n    }\n\n    // Add the status bar.\n    var status_bar = document.createElement('span');\n    status_bar.classList = 'mpl-message pull-right';\n    toolbar.appendChild(status_bar);\n    this.message = status_bar;\n\n    // Add the close button to the window.\n    var buttongrp = document.createElement('div');\n    buttongrp.classList = 'btn-group inline pull-right';\n    button = document.createElement('button');\n    button.classList = 'btn btn-mini btn-primary';\n    button.href = '#';\n    button.title = 'Stop Interaction';\n    button.innerHTML = '<i class=\"fa fa-power-off icon-remove icon-large\"></i>';\n    button.addEventListener('click', function (_evt) {\n        fig.handle_close(fig, {});\n    });\n    button.addEventListener(\n        'mouseover',\n        on_mouseover_closure('Stop Interaction')\n    );\n    buttongrp.appendChild(button);\n    var titlebar = this.root.querySelector('.ui-dialog-titlebar');\n    titlebar.insertBefore(buttongrp, titlebar.firstChild);\n};\n\nmpl.figure.prototype._remove_fig_handler = function (event) {\n    var fig = event.data.fig;\n    if (event.target !== this) {\n        // Ignore bubbled events from children.\n        return;\n    }\n    fig.close_ws(fig, {});\n};\n\nmpl.figure.prototype._root_extra_style = function (el) {\n    el.style.boxSizing = 'content-box'; // override notebook setting of border-box.\n};\n\nmpl.figure.prototype._canvas_extra_style = function (el) {\n    // this is important to make the div 'focusable\n    el.setAttribute('tabindex', 0);\n    // reach out to IPython and tell the keyboard manager to turn it's self\n    // off when our div gets focus\n\n    // location in version 3\n    if (IPython.notebook.keyboard_manager) {\n        IPython.notebook.keyboard_manager.register_events(el);\n    } else {\n        // location in version 2\n        IPython.keyboard_manager.register_events(el);\n    }\n};\n\nmpl.figure.prototype._key_event_extra = function (event, _name) {\n    // Check for shift+enter\n    if (event.shiftKey && event.which === 13) {\n        this.canvas_div.blur();\n        // select the cell after this one\n        var index = IPython.notebook.find_cell_index(this.cell_info[0]);\n        IPython.notebook.select(index + 1);\n    }\n};\n\nmpl.figure.prototype.handle_save = function (fig, _msg) {\n    fig.ondownload(fig, null);\n};\n\nmpl.find_output_cell = function (html_output) {\n    // Return the cell and output element which can be found *uniquely* in the notebook.\n    // Note - this is a bit hacky, but it is done because the \"notebook_saving.Notebook\"\n    // IPython event is triggered only after the cells have been serialised, which for\n    // our purposes (turning an active figure into a static one), is too late.\n    var cells = IPython.notebook.get_cells();\n    var ncells = cells.length;\n    for (var i = 0; i < ncells; i++) {\n        var cell = cells[i];\n        if (cell.cell_type === 'code') {\n            for (var j = 0; j < cell.output_area.outputs.length; j++) {\n                var data = cell.output_area.outputs[j];\n                if (data.data) {\n                    // IPython >= 3 moved mimebundle to data attribute of output\n                    data = data.data;\n                }\n                if (data['text/html'] === html_output) {\n                    return [cell, data, j];\n                }\n            }\n        }\n    }\n};\n\n// Register the function which deals with the matplotlib target/channel.\n// The kernel may be null if the page has been refreshed.\nif (IPython.notebook.kernel !== null) {\n    IPython.notebook.kernel.comm_manager.register_target(\n        'matplotlib',\n        mpl.mpl_figure_comm\n    );\n}\n",
      "text/plain": [
       "<IPython.core.display.Javascript object>"
      ]
     },
     "metadata": {},
     "output_type": "display_data"
    },
    {
     "data": {
      "text/html": [
       "<div id='e7abe20c-4715-4f2a-b116-2650e1de2144'></div>"
      ],
      "text/plain": [
       "<IPython.core.display.HTML object>"
      ]
     },
     "metadata": {},
     "output_type": "display_data"
    }
   ],
   "source": [
    "T.plot(color='red', label='2')"
   ]
  },
  {
   "cell_type": "code",
   "execution_count": 7,
   "metadata": {},
   "outputs": [
    {
     "name": "stdout",
     "output_type": "stream",
     "text": [
      " 0.9888 <<  0.1494,  0.0000,  0.0000 >>\n"
     ]
    },
    {
     "data": {
      "text/plain": []
     },
     "execution_count": 7,
     "metadata": {},
     "output_type": "execute_result"
    }
   ],
   "source": [
    "UnitQuaternion.Rx(0.3)\n",
    "UnitQuaternion.AngVec(0.3, [1, 0, 0])"
   ]
  },
  {
   "cell_type": "code",
   "execution_count": 8,
   "metadata": {},
   "outputs": [
    {
     "data": {
      "text/plain": [
       "100"
      ]
     },
     "execution_count": 8,
     "metadata": {},
     "output_type": "execute_result"
    }
   ],
   "source": [
    "R = SE3.Rx(np.linspace(0, pi/2, num=100))\n",
    "len(R)"
   ]
  },
  {
   "cell_type": "markdown",
   "metadata": {},
   "source": [
    "# IV. ROBOTICS TOOLBOX\n",
    "## A. Robot models"
   ]
  },
  {
   "cell_type": "code",
   "execution_count": 9,
   "metadata": {},
   "outputs": [],
   "source": [
    "from roboticstoolbox import *\n",
    "# robot length values (metres)\n",
    "d1 = 0.352\n",
    "a1 = 0.070\n",
    "a2 = 0.360\n",
    "d4 = 0.380\n",
    "d6 = 0.065;"
   ]
  },
  {
   "cell_type": "code",
   "execution_count": 10,
   "metadata": {},
   "outputs": [
    {
     "data": {
      "text/plain": [
       "DHRobot: my IRB140, 3 joints (RRR), dynamics, standard DH parameters\n",
       "┌────┬───────┬──────┬────────┐\n",
       "│θⱼ  │  dⱼ   │  aⱼ  │   ⍺ⱼ   │\n",
       "├────┼───────┼──────┼────────┤\n",
       "│ q1\u001b[0m │ 0.352\u001b[0m │ 0.07\u001b[0m │ -90.0°\u001b[0m │\n",
       "│ q2\u001b[0m │     0\u001b[0m │ 0.36\u001b[0m │   0.0°\u001b[0m │\n",
       "│ q3\u001b[0m │     0\u001b[0m │    0\u001b[0m │  90.0°\u001b[0m │\n",
       "└────┴───────┴──────┴────────┘\n",
       "\n",
       "┌─┬──┐\n",
       "└─┴──┘"
      ]
     },
     "execution_count": 10,
     "metadata": {},
     "output_type": "execute_result"
    }
   ],
   "source": [
    "robot = DHRobot([\n",
    "  RevoluteDH(d=d1, a=a1, alpha=-pi/2), \n",
    "  RevoluteDH(a=a2), \n",
    "  RevoluteDH(alpha=pi/2),\n",
    "  ], name=\"my IRB140\")"
   ]
  },
  {
   "cell_type": "code",
   "execution_count": 11,
   "metadata": {},
   "outputs": [
    {
     "data": {
      "text/plain": [
       "DHRobot: Puma 560 (by Unimation), 6 joints (RRRRRR), dynamics, geometry, standard DH parameters\n",
       "┌────┬────────┬────────┬────────┬─────────┬────────┐\n",
       "│θⱼ  │   dⱼ   │   aⱼ   │   ⍺ⱼ   │   q⁻    │   q⁺   │\n",
       "├────┼────────┼────────┼────────┼─────────┼────────┤\n",
       "│ q1\u001b[0m │ 0.6718\u001b[0m │      0\u001b[0m │  90.0°\u001b[0m │ -160.0°\u001b[0m │ 160.0°\u001b[0m │\n",
       "│ q2\u001b[0m │      0\u001b[0m │ 0.4318\u001b[0m │   0.0°\u001b[0m │ -110.0°\u001b[0m │ 110.0°\u001b[0m │\n",
       "│ q3\u001b[0m │   0.15\u001b[0m │ 0.0203\u001b[0m │ -90.0°\u001b[0m │ -135.0°\u001b[0m │ 135.0°\u001b[0m │\n",
       "│ q4\u001b[0m │ 0.4318\u001b[0m │      0\u001b[0m │  90.0°\u001b[0m │ -266.0°\u001b[0m │ 266.0°\u001b[0m │\n",
       "│ q5\u001b[0m │      0\u001b[0m │      0\u001b[0m │ -90.0°\u001b[0m │ -100.0°\u001b[0m │ 100.0°\u001b[0m │\n",
       "│ q6\u001b[0m │      0\u001b[0m │      0\u001b[0m │   0.0°\u001b[0m │ -266.0°\u001b[0m │ 266.0°\u001b[0m │\n",
       "└────┴────────┴────────┴────────┴─────────┴────────┘\n",
       "\n",
       "┌─┬──┐\n",
       "└─┴──┘\n",
       "\n",
       "┌─────┬─────┬──────┬───────┬─────┬──────┬─────┐\n",
       "│name │ q0  │ q1   │ q2    │ q3  │ q4   │ q5  │\n",
       "├─────┼─────┼──────┼───────┼─────┼──────┼─────┤\n",
       "│  qr\u001b[0m │  0°\u001b[0m │  90°\u001b[0m │ -90°\u001b[0m  │  0°\u001b[0m │  0°\u001b[0m  │  0°\u001b[0m │\n",
       "│  qz\u001b[0m │  0°\u001b[0m │  0°\u001b[0m  │  0°\u001b[0m   │  0°\u001b[0m │  0°\u001b[0m  │  0°\u001b[0m │\n",
       "│  qn\u001b[0m │  0°\u001b[0m │  45°\u001b[0m │  180°\u001b[0m │  0°\u001b[0m │  45°\u001b[0m │  0°\u001b[0m │\n",
       "│  qs\u001b[0m │  0°\u001b[0m │  0°\u001b[0m  │ -90°\u001b[0m  │  0°\u001b[0m │  0°\u001b[0m  │  0°\u001b[0m │\n",
       "└─────┴─────┴──────┴───────┴─────┴──────┴─────┘"
      ]
     },
     "execution_count": 11,
     "metadata": {},
     "output_type": "execute_result"
    }
   ],
   "source": [
    "puma = models.DH.Puma560()"
   ]
  },
  {
   "cell_type": "code",
   "execution_count": 12,
   "metadata": {},
   "outputs": [
    {
     "data": {
      "text/plain": [
       "  \u001b[38;5;1m 0.1217  \u001b[0m \u001b[38;5;1m-0.6067  \u001b[0m \u001b[38;5;1m-0.7856  \u001b[0m \u001b[38;5;4m 0.2478  \u001b[0m  \u001b[0m\n",
       "  \u001b[38;5;1m 0.8184  \u001b[0m \u001b[38;5;1m 0.5092  \u001b[0m \u001b[38;5;1m-0.2665  \u001b[0m \u001b[38;5;4m-0.1259  \u001b[0m  \u001b[0m\n",
       "  \u001b[38;5;1m 0.5617  \u001b[0m \u001b[38;5;1m-0.6105  \u001b[0m \u001b[38;5;1m 0.5584  \u001b[0m \u001b[38;5;4m 1.146   \u001b[0m  \u001b[0m\n",
       "  \u001b[38;5;244m 0       \u001b[0m \u001b[38;5;244m 0       \u001b[0m \u001b[38;5;244m 0       \u001b[0m \u001b[38;5;244m 1       \u001b[0m  \u001b[0m\n"
      ]
     },
     "execution_count": 12,
     "metadata": {},
     "output_type": "execute_result"
    }
   ],
   "source": [
    "T = puma.fkine([0.1, 0.2, 0.3, 0.4, 0.5, 0.6])"
   ]
  },
  {
   "cell_type": "code",
   "execution_count": 13,
   "metadata": {},
   "outputs": [
    {
     "data": {
      "text/plain": [
       "IKSolution(q=array([       0.1,        0.2,        0.3,     -2.742,       -0.5,     -2.542]), success=True, iterations=7, searches=1, residual=3.386994252260157e-07, reason='Success')"
      ]
     },
     "execution_count": 13,
     "metadata": {},
     "output_type": "execute_result"
    }
   ],
   "source": [
    "sol = puma.ikine_LM(T)"
   ]
  },
  {
   "cell_type": "code",
   "execution_count": 14,
   "metadata": {},
   "outputs": [
    {
     "data": {
      "application/javascript": "/* Put everything inside the global mpl namespace */\n/* global mpl */\nwindow.mpl = {};\n\nmpl.get_websocket_type = function () {\n    if (typeof WebSocket !== 'undefined') {\n        return WebSocket;\n    } else if (typeof MozWebSocket !== 'undefined') {\n        return MozWebSocket;\n    } else {\n        alert(\n            'Your browser does not have WebSocket support. ' +\n                'Please try Chrome, Safari or Firefox ≥ 6. ' +\n                'Firefox 4 and 5 are also supported but you ' +\n                'have to enable WebSockets in about:config.'\n        );\n    }\n};\n\nmpl.figure = function (figure_id, websocket, ondownload, parent_element) {\n    this.id = figure_id;\n\n    this.ws = websocket;\n\n    this.supports_binary = this.ws.binaryType !== undefined;\n\n    if (!this.supports_binary) {\n        var warnings = document.getElementById('mpl-warnings');\n        if (warnings) {\n            warnings.style.display = 'block';\n            warnings.textContent =\n                'This browser does not support binary websocket messages. ' +\n                'Performance may be slow.';\n        }\n    }\n\n    this.imageObj = new Image();\n\n    this.context = undefined;\n    this.message = undefined;\n    this.canvas = undefined;\n    this.rubberband_canvas = undefined;\n    this.rubberband_context = undefined;\n    this.format_dropdown = undefined;\n\n    this.image_mode = 'full';\n\n    this.root = document.createElement('div');\n    this.root.setAttribute('style', 'display: inline-block');\n    this._root_extra_style(this.root);\n\n    parent_element.appendChild(this.root);\n\n    this._init_header(this);\n    this._init_canvas(this);\n    this._init_toolbar(this);\n\n    var fig = this;\n\n    this.waiting = false;\n\n    this.ws.onopen = function () {\n        fig.send_message('supports_binary', { value: fig.supports_binary });\n        fig.send_message('send_image_mode', {});\n        if (fig.ratio !== 1) {\n            fig.send_message('set_device_pixel_ratio', {\n                device_pixel_ratio: fig.ratio,\n            });\n        }\n        fig.send_message('refresh', {});\n    };\n\n    this.imageObj.onload = function () {\n        if (fig.image_mode === 'full') {\n            // Full images could contain transparency (where diff images\n            // almost always do), so we need to clear the canvas so that\n            // there is no ghosting.\n            fig.context.clearRect(0, 0, fig.canvas.width, fig.canvas.height);\n        }\n        fig.context.drawImage(fig.imageObj, 0, 0);\n    };\n\n    this.imageObj.onunload = function () {\n        fig.ws.close();\n    };\n\n    this.ws.onmessage = this._make_on_message_function(this);\n\n    this.ondownload = ondownload;\n};\n\nmpl.figure.prototype._init_header = function () {\n    var titlebar = document.createElement('div');\n    titlebar.classList =\n        'ui-dialog-titlebar ui-widget-header ui-corner-all ui-helper-clearfix';\n    var titletext = document.createElement('div');\n    titletext.classList = 'ui-dialog-title';\n    titletext.setAttribute(\n        'style',\n        'width: 100%; text-align: center; padding: 3px;'\n    );\n    titlebar.appendChild(titletext);\n    this.root.appendChild(titlebar);\n    this.header = titletext;\n};\n\nmpl.figure.prototype._canvas_extra_style = function (_canvas_div) {};\n\nmpl.figure.prototype._root_extra_style = function (_canvas_div) {};\n\nmpl.figure.prototype._init_canvas = function () {\n    var fig = this;\n\n    var canvas_div = (this.canvas_div = document.createElement('div'));\n    canvas_div.setAttribute('tabindex', '0');\n    canvas_div.setAttribute(\n        'style',\n        'border: 1px solid #ddd;' +\n            'box-sizing: content-box;' +\n            'clear: both;' +\n            'min-height: 1px;' +\n            'min-width: 1px;' +\n            'outline: 0;' +\n            'overflow: hidden;' +\n            'position: relative;' +\n            'resize: both;' +\n            'z-index: 2;'\n    );\n\n    function on_keyboard_event_closure(name) {\n        return function (event) {\n            return fig.key_event(event, name);\n        };\n    }\n\n    canvas_div.addEventListener(\n        'keydown',\n        on_keyboard_event_closure('key_press')\n    );\n    canvas_div.addEventListener(\n        'keyup',\n        on_keyboard_event_closure('key_release')\n    );\n\n    this._canvas_extra_style(canvas_div);\n    this.root.appendChild(canvas_div);\n\n    var canvas = (this.canvas = document.createElement('canvas'));\n    canvas.classList.add('mpl-canvas');\n    canvas.setAttribute(\n        'style',\n        'box-sizing: content-box;' +\n            'pointer-events: none;' +\n            'position: relative;' +\n            'z-index: 0;'\n    );\n\n    this.context = canvas.getContext('2d');\n\n    var backingStore =\n        this.context.backingStorePixelRatio ||\n        this.context.webkitBackingStorePixelRatio ||\n        this.context.mozBackingStorePixelRatio ||\n        this.context.msBackingStorePixelRatio ||\n        this.context.oBackingStorePixelRatio ||\n        this.context.backingStorePixelRatio ||\n        1;\n\n    this.ratio = (window.devicePixelRatio || 1) / backingStore;\n\n    var rubberband_canvas = (this.rubberband_canvas = document.createElement(\n        'canvas'\n    ));\n    rubberband_canvas.setAttribute(\n        'style',\n        'box-sizing: content-box;' +\n            'left: 0;' +\n            'pointer-events: none;' +\n            'position: absolute;' +\n            'top: 0;' +\n            'z-index: 1;'\n    );\n\n    // Apply a ponyfill if ResizeObserver is not implemented by browser.\n    if (this.ResizeObserver === undefined) {\n        if (window.ResizeObserver !== undefined) {\n            this.ResizeObserver = window.ResizeObserver;\n        } else {\n            var obs = _JSXTOOLS_RESIZE_OBSERVER({});\n            this.ResizeObserver = obs.ResizeObserver;\n        }\n    }\n\n    this.resizeObserverInstance = new this.ResizeObserver(function (entries) {\n        var nentries = entries.length;\n        for (var i = 0; i < nentries; i++) {\n            var entry = entries[i];\n            var width, height;\n            if (entry.contentBoxSize) {\n                if (entry.contentBoxSize instanceof Array) {\n                    // Chrome 84 implements new version of spec.\n                    width = entry.contentBoxSize[0].inlineSize;\n                    height = entry.contentBoxSize[0].blockSize;\n                } else {\n                    // Firefox implements old version of spec.\n                    width = entry.contentBoxSize.inlineSize;\n                    height = entry.contentBoxSize.blockSize;\n                }\n            } else {\n                // Chrome <84 implements even older version of spec.\n                width = entry.contentRect.width;\n                height = entry.contentRect.height;\n            }\n\n            // Keep the size of the canvas and rubber band canvas in sync with\n            // the canvas container.\n            if (entry.devicePixelContentBoxSize) {\n                // Chrome 84 implements new version of spec.\n                canvas.setAttribute(\n                    'width',\n                    entry.devicePixelContentBoxSize[0].inlineSize\n                );\n                canvas.setAttribute(\n                    'height',\n                    entry.devicePixelContentBoxSize[0].blockSize\n                );\n            } else {\n                canvas.setAttribute('width', width * fig.ratio);\n                canvas.setAttribute('height', height * fig.ratio);\n            }\n            /* This rescales the canvas back to display pixels, so that it\n             * appears correct on HiDPI screens. */\n            canvas.style.width = width + 'px';\n            canvas.style.height = height + 'px';\n\n            rubberband_canvas.setAttribute('width', width);\n            rubberband_canvas.setAttribute('height', height);\n\n            // And update the size in Python. We ignore the initial 0/0 size\n            // that occurs as the element is placed into the DOM, which should\n            // otherwise not happen due to the minimum size styling.\n            if (fig.ws.readyState == 1 && width != 0 && height != 0) {\n                fig.request_resize(width, height);\n            }\n        }\n    });\n    this.resizeObserverInstance.observe(canvas_div);\n\n    function on_mouse_event_closure(name) {\n        /* User Agent sniffing is bad, but WebKit is busted:\n         * https://bugs.webkit.org/show_bug.cgi?id=144526\n         * https://bugs.webkit.org/show_bug.cgi?id=181818\n         * The worst that happens here is that they get an extra browser\n         * selection when dragging, if this check fails to catch them.\n         */\n        var UA = navigator.userAgent;\n        var isWebKit = /AppleWebKit/.test(UA) && !/Chrome/.test(UA);\n        if(isWebKit) {\n            return function (event) {\n                /* This prevents the web browser from automatically changing to\n                 * the text insertion cursor when the button is pressed. We\n                 * want to control all of the cursor setting manually through\n                 * the 'cursor' event from matplotlib */\n                event.preventDefault()\n                return fig.mouse_event(event, name);\n            };\n        } else {\n            return function (event) {\n                return fig.mouse_event(event, name);\n            };\n        }\n    }\n\n    canvas_div.addEventListener(\n        'mousedown',\n        on_mouse_event_closure('button_press')\n    );\n    canvas_div.addEventListener(\n        'mouseup',\n        on_mouse_event_closure('button_release')\n    );\n    canvas_div.addEventListener(\n        'dblclick',\n        on_mouse_event_closure('dblclick')\n    );\n    // Throttle sequential mouse events to 1 every 20ms.\n    canvas_div.addEventListener(\n        'mousemove',\n        on_mouse_event_closure('motion_notify')\n    );\n\n    canvas_div.addEventListener(\n        'mouseenter',\n        on_mouse_event_closure('figure_enter')\n    );\n    canvas_div.addEventListener(\n        'mouseleave',\n        on_mouse_event_closure('figure_leave')\n    );\n\n    canvas_div.addEventListener('wheel', function (event) {\n        if (event.deltaY < 0) {\n            event.step = 1;\n        } else {\n            event.step = -1;\n        }\n        on_mouse_event_closure('scroll')(event);\n    });\n\n    canvas_div.appendChild(canvas);\n    canvas_div.appendChild(rubberband_canvas);\n\n    this.rubberband_context = rubberband_canvas.getContext('2d');\n    this.rubberband_context.strokeStyle = '#000000';\n\n    this._resize_canvas = function (width, height, forward) {\n        if (forward) {\n            canvas_div.style.width = width + 'px';\n            canvas_div.style.height = height + 'px';\n        }\n    };\n\n    // Disable right mouse context menu.\n    canvas_div.addEventListener('contextmenu', function (_e) {\n        event.preventDefault();\n        return false;\n    });\n\n    function set_focus() {\n        canvas.focus();\n        canvas_div.focus();\n    }\n\n    window.setTimeout(set_focus, 100);\n};\n\nmpl.figure.prototype._init_toolbar = function () {\n    var fig = this;\n\n    var toolbar = document.createElement('div');\n    toolbar.classList = 'mpl-toolbar';\n    this.root.appendChild(toolbar);\n\n    function on_click_closure(name) {\n        return function (_event) {\n            return fig.toolbar_button_onclick(name);\n        };\n    }\n\n    function on_mouseover_closure(tooltip) {\n        return function (event) {\n            if (!event.currentTarget.disabled) {\n                return fig.toolbar_button_onmouseover(tooltip);\n            }\n        };\n    }\n\n    fig.buttons = {};\n    var buttonGroup = document.createElement('div');\n    buttonGroup.classList = 'mpl-button-group';\n    for (var toolbar_ind in mpl.toolbar_items) {\n        var name = mpl.toolbar_items[toolbar_ind][0];\n        var tooltip = mpl.toolbar_items[toolbar_ind][1];\n        var image = mpl.toolbar_items[toolbar_ind][2];\n        var method_name = mpl.toolbar_items[toolbar_ind][3];\n\n        if (!name) {\n            /* Instead of a spacer, we start a new button group. */\n            if (buttonGroup.hasChildNodes()) {\n                toolbar.appendChild(buttonGroup);\n            }\n            buttonGroup = document.createElement('div');\n            buttonGroup.classList = 'mpl-button-group';\n            continue;\n        }\n\n        var button = (fig.buttons[name] = document.createElement('button'));\n        button.classList = 'mpl-widget';\n        button.setAttribute('role', 'button');\n        button.setAttribute('aria-disabled', 'false');\n        button.addEventListener('click', on_click_closure(method_name));\n        button.addEventListener('mouseover', on_mouseover_closure(tooltip));\n\n        var icon_img = document.createElement('img');\n        icon_img.src = '_images/' + image + '.png';\n        icon_img.srcset = '_images/' + image + '_large.png 2x';\n        icon_img.alt = tooltip;\n        button.appendChild(icon_img);\n\n        buttonGroup.appendChild(button);\n    }\n\n    if (buttonGroup.hasChildNodes()) {\n        toolbar.appendChild(buttonGroup);\n    }\n\n    var fmt_picker = document.createElement('select');\n    fmt_picker.classList = 'mpl-widget';\n    toolbar.appendChild(fmt_picker);\n    this.format_dropdown = fmt_picker;\n\n    for (var ind in mpl.extensions) {\n        var fmt = mpl.extensions[ind];\n        var option = document.createElement('option');\n        option.selected = fmt === mpl.default_extension;\n        option.innerHTML = fmt;\n        fmt_picker.appendChild(option);\n    }\n\n    var status_bar = document.createElement('span');\n    status_bar.classList = 'mpl-message';\n    toolbar.appendChild(status_bar);\n    this.message = status_bar;\n};\n\nmpl.figure.prototype.request_resize = function (x_pixels, y_pixels) {\n    // Request matplotlib to resize the figure. Matplotlib will then trigger a resize in the client,\n    // which will in turn request a refresh of the image.\n    this.send_message('resize', { width: x_pixels, height: y_pixels });\n};\n\nmpl.figure.prototype.send_message = function (type, properties) {\n    properties['type'] = type;\n    properties['figure_id'] = this.id;\n    this.ws.send(JSON.stringify(properties));\n};\n\nmpl.figure.prototype.send_draw_message = function () {\n    if (!this.waiting) {\n        this.waiting = true;\n        this.ws.send(JSON.stringify({ type: 'draw', figure_id: this.id }));\n    }\n};\n\nmpl.figure.prototype.handle_save = function (fig, _msg) {\n    var format_dropdown = fig.format_dropdown;\n    var format = format_dropdown.options[format_dropdown.selectedIndex].value;\n    fig.ondownload(fig, format);\n};\n\nmpl.figure.prototype.handle_resize = function (fig, msg) {\n    var size = msg['size'];\n    if (size[0] !== fig.canvas.width || size[1] !== fig.canvas.height) {\n        fig._resize_canvas(size[0], size[1], msg['forward']);\n        fig.send_message('refresh', {});\n    }\n};\n\nmpl.figure.prototype.handle_rubberband = function (fig, msg) {\n    var x0 = msg['x0'] / fig.ratio;\n    var y0 = (fig.canvas.height - msg['y0']) / fig.ratio;\n    var x1 = msg['x1'] / fig.ratio;\n    var y1 = (fig.canvas.height - msg['y1']) / fig.ratio;\n    x0 = Math.floor(x0) + 0.5;\n    y0 = Math.floor(y0) + 0.5;\n    x1 = Math.floor(x1) + 0.5;\n    y1 = Math.floor(y1) + 0.5;\n    var min_x = Math.min(x0, x1);\n    var min_y = Math.min(y0, y1);\n    var width = Math.abs(x1 - x0);\n    var height = Math.abs(y1 - y0);\n\n    fig.rubberband_context.clearRect(\n        0,\n        0,\n        fig.canvas.width / fig.ratio,\n        fig.canvas.height / fig.ratio\n    );\n\n    fig.rubberband_context.strokeRect(min_x, min_y, width, height);\n};\n\nmpl.figure.prototype.handle_figure_label = function (fig, msg) {\n    // Updates the figure title.\n    fig.header.textContent = msg['label'];\n};\n\nmpl.figure.prototype.handle_cursor = function (fig, msg) {\n    fig.canvas_div.style.cursor = msg['cursor'];\n};\n\nmpl.figure.prototype.handle_message = function (fig, msg) {\n    fig.message.textContent = msg['message'];\n};\n\nmpl.figure.prototype.handle_draw = function (fig, _msg) {\n    // Request the server to send over a new figure.\n    fig.send_draw_message();\n};\n\nmpl.figure.prototype.handle_image_mode = function (fig, msg) {\n    fig.image_mode = msg['mode'];\n};\n\nmpl.figure.prototype.handle_history_buttons = function (fig, msg) {\n    for (var key in msg) {\n        if (!(key in fig.buttons)) {\n            continue;\n        }\n        fig.buttons[key].disabled = !msg[key];\n        fig.buttons[key].setAttribute('aria-disabled', !msg[key]);\n    }\n};\n\nmpl.figure.prototype.handle_navigate_mode = function (fig, msg) {\n    if (msg['mode'] === 'PAN') {\n        fig.buttons['Pan'].classList.add('active');\n        fig.buttons['Zoom'].classList.remove('active');\n    } else if (msg['mode'] === 'ZOOM') {\n        fig.buttons['Pan'].classList.remove('active');\n        fig.buttons['Zoom'].classList.add('active');\n    } else {\n        fig.buttons['Pan'].classList.remove('active');\n        fig.buttons['Zoom'].classList.remove('active');\n    }\n};\n\nmpl.figure.prototype.updated_canvas_event = function () {\n    // Called whenever the canvas gets updated.\n    this.send_message('ack', {});\n};\n\n// A function to construct a web socket function for onmessage handling.\n// Called in the figure constructor.\nmpl.figure.prototype._make_on_message_function = function (fig) {\n    return function socket_on_message(evt) {\n        if (evt.data instanceof Blob) {\n            var img = evt.data;\n            if (img.type !== 'image/png') {\n                /* FIXME: We get \"Resource interpreted as Image but\n                 * transferred with MIME type text/plain:\" errors on\n                 * Chrome.  But how to set the MIME type?  It doesn't seem\n                 * to be part of the websocket stream */\n                img.type = 'image/png';\n            }\n\n            /* Free the memory for the previous frames */\n            if (fig.imageObj.src) {\n                (window.URL || window.webkitURL).revokeObjectURL(\n                    fig.imageObj.src\n                );\n            }\n\n            fig.imageObj.src = (window.URL || window.webkitURL).createObjectURL(\n                img\n            );\n            fig.updated_canvas_event();\n            fig.waiting = false;\n            return;\n        } else if (\n            typeof evt.data === 'string' &&\n            evt.data.slice(0, 21) === 'data:image/png;base64'\n        ) {\n            fig.imageObj.src = evt.data;\n            fig.updated_canvas_event();\n            fig.waiting = false;\n            return;\n        }\n\n        var msg = JSON.parse(evt.data);\n        var msg_type = msg['type'];\n\n        // Call the  \"handle_{type}\" callback, which takes\n        // the figure and JSON message as its only arguments.\n        try {\n            var callback = fig['handle_' + msg_type];\n        } catch (e) {\n            console.log(\n                \"No handler for the '\" + msg_type + \"' message type: \",\n                msg\n            );\n            return;\n        }\n\n        if (callback) {\n            try {\n                // console.log(\"Handling '\" + msg_type + \"' message: \", msg);\n                callback(fig, msg);\n            } catch (e) {\n                console.log(\n                    \"Exception inside the 'handler_\" + msg_type + \"' callback:\",\n                    e,\n                    e.stack,\n                    msg\n                );\n            }\n        }\n    };\n};\n\nfunction getModifiers(event) {\n    var mods = [];\n    if (event.ctrlKey) {\n        mods.push('ctrl');\n    }\n    if (event.altKey) {\n        mods.push('alt');\n    }\n    if (event.shiftKey) {\n        mods.push('shift');\n    }\n    if (event.metaKey) {\n        mods.push('meta');\n    }\n    return mods;\n}\n\n/*\n * return a copy of an object with only non-object keys\n * we need this to avoid circular references\n * https://stackoverflow.com/a/24161582/3208463\n */\nfunction simpleKeys(original) {\n    return Object.keys(original).reduce(function (obj, key) {\n        if (typeof original[key] !== 'object') {\n            obj[key] = original[key];\n        }\n        return obj;\n    }, {});\n}\n\nmpl.figure.prototype.mouse_event = function (event, name) {\n    if (name === 'button_press') {\n        this.canvas.focus();\n        this.canvas_div.focus();\n    }\n\n    // from https://stackoverflow.com/q/1114465\n    var boundingRect = this.canvas.getBoundingClientRect();\n    var x = (event.clientX - boundingRect.left) * this.ratio;\n    var y = (event.clientY - boundingRect.top) * this.ratio;\n\n    this.send_message(name, {\n        x: x,\n        y: y,\n        button: event.button,\n        step: event.step,\n        modifiers: getModifiers(event),\n        guiEvent: simpleKeys(event),\n    });\n\n    return false;\n};\n\nmpl.figure.prototype._key_event_extra = function (_event, _name) {\n    // Handle any extra behaviour associated with a key event\n};\n\nmpl.figure.prototype.key_event = function (event, name) {\n    // Prevent repeat events\n    if (name === 'key_press') {\n        if (event.key === this._key) {\n            return;\n        } else {\n            this._key = event.key;\n        }\n    }\n    if (name === 'key_release') {\n        this._key = null;\n    }\n\n    var value = '';\n    if (event.ctrlKey && event.key !== 'Control') {\n        value += 'ctrl+';\n    }\n    else if (event.altKey && event.key !== 'Alt') {\n        value += 'alt+';\n    }\n    else if (event.shiftKey && event.key !== 'Shift') {\n        value += 'shift+';\n    }\n\n    value += 'k' + event.key;\n\n    this._key_event_extra(event, name);\n\n    this.send_message(name, { key: value, guiEvent: simpleKeys(event) });\n    return false;\n};\n\nmpl.figure.prototype.toolbar_button_onclick = function (name) {\n    if (name === 'download') {\n        this.handle_save(this, null);\n    } else {\n        this.send_message('toolbar_button', { name: name });\n    }\n};\n\nmpl.figure.prototype.toolbar_button_onmouseover = function (tooltip) {\n    this.message.textContent = tooltip;\n};\n\n///////////////// REMAINING CONTENT GENERATED BY embed_js.py /////////////////\n// prettier-ignore\nvar _JSXTOOLS_RESIZE_OBSERVER=function(A){var t,i=new WeakMap,n=new WeakMap,a=new WeakMap,r=new WeakMap,o=new Set;function s(e){if(!(this instanceof s))throw new TypeError(\"Constructor requires 'new' operator\");i.set(this,e)}function h(){throw new TypeError(\"Function is not a constructor\")}function c(e,t,i,n){e=0 in arguments?Number(arguments[0]):0,t=1 in arguments?Number(arguments[1]):0,i=2 in arguments?Number(arguments[2]):0,n=3 in arguments?Number(arguments[3]):0,this.right=(this.x=this.left=e)+(this.width=i),this.bottom=(this.y=this.top=t)+(this.height=n),Object.freeze(this)}function d(){t=requestAnimationFrame(d);var s=new WeakMap,p=new Set;o.forEach((function(t){r.get(t).forEach((function(i){var r=t instanceof window.SVGElement,o=a.get(t),d=r?0:parseFloat(o.paddingTop),f=r?0:parseFloat(o.paddingRight),l=r?0:parseFloat(o.paddingBottom),u=r?0:parseFloat(o.paddingLeft),g=r?0:parseFloat(o.borderTopWidth),m=r?0:parseFloat(o.borderRightWidth),w=r?0:parseFloat(o.borderBottomWidth),b=u+f,F=d+l,v=(r?0:parseFloat(o.borderLeftWidth))+m,W=g+w,y=r?0:t.offsetHeight-W-t.clientHeight,E=r?0:t.offsetWidth-v-t.clientWidth,R=b+v,z=F+W,M=r?t.width:parseFloat(o.width)-R-E,O=r?t.height:parseFloat(o.height)-z-y;if(n.has(t)){var k=n.get(t);if(k[0]===M&&k[1]===O)return}n.set(t,[M,O]);var S=Object.create(h.prototype);S.target=t,S.contentRect=new c(u,d,M,O),s.has(i)||(s.set(i,[]),p.add(i)),s.get(i).push(S)}))})),p.forEach((function(e){i.get(e).call(e,s.get(e),e)}))}return s.prototype.observe=function(i){if(i instanceof window.Element){r.has(i)||(r.set(i,new Set),o.add(i),a.set(i,window.getComputedStyle(i)));var n=r.get(i);n.has(this)||n.add(this),cancelAnimationFrame(t),t=requestAnimationFrame(d)}},s.prototype.unobserve=function(i){if(i instanceof window.Element&&r.has(i)){var n=r.get(i);n.has(this)&&(n.delete(this),n.size||(r.delete(i),o.delete(i))),n.size||r.delete(i),o.size||cancelAnimationFrame(t)}},A.DOMRectReadOnly=c,A.ResizeObserver=s,A.ResizeObserverEntry=h,A}; // eslint-disable-line\nmpl.toolbar_items = [[\"Home\", \"Reset original view\", \"fa fa-home\", \"home\"], [\"Back\", \"Back to previous view\", \"fa fa-arrow-left\", \"back\"], [\"Forward\", \"Forward to next view\", \"fa fa-arrow-right\", \"forward\"], [\"\", \"\", \"\", \"\"], [\"Pan\", \"Left button pans, Right button zooms\\nx/y fixes axis, CTRL fixes aspect\", \"fa fa-arrows\", \"pan\"], [\"Zoom\", \"Zoom to rectangle\\nx/y fixes axis\", \"fa fa-square-o\", \"zoom\"], [\"\", \"\", \"\", \"\"], [\"Download\", \"Download plot\", \"fa fa-floppy-o\", \"download\"]];\n\nmpl.extensions = [\"eps\", \"jpeg\", \"pgf\", \"pdf\", \"png\", \"ps\", \"raw\", \"svg\", \"tif\", \"webp\"];\n\nmpl.default_extension = \"png\";/* global mpl */\n\nvar comm_websocket_adapter = function (comm) {\n    // Create a \"websocket\"-like object which calls the given IPython comm\n    // object with the appropriate methods. Currently this is a non binary\n    // socket, so there is still some room for performance tuning.\n    var ws = {};\n\n    ws.binaryType = comm.kernel.ws.binaryType;\n    ws.readyState = comm.kernel.ws.readyState;\n    function updateReadyState(_event) {\n        if (comm.kernel.ws) {\n            ws.readyState = comm.kernel.ws.readyState;\n        } else {\n            ws.readyState = 3; // Closed state.\n        }\n    }\n    comm.kernel.ws.addEventListener('open', updateReadyState);\n    comm.kernel.ws.addEventListener('close', updateReadyState);\n    comm.kernel.ws.addEventListener('error', updateReadyState);\n\n    ws.close = function () {\n        comm.close();\n    };\n    ws.send = function (m) {\n        //console.log('sending', m);\n        comm.send(m);\n    };\n    // Register the callback with on_msg.\n    comm.on_msg(function (msg) {\n        //console.log('receiving', msg['content']['data'], msg);\n        var data = msg['content']['data'];\n        if (data['blob'] !== undefined) {\n            data = {\n                data: new Blob(msg['buffers'], { type: data['blob'] }),\n            };\n        }\n        // Pass the mpl event to the overridden (by mpl) onmessage function.\n        ws.onmessage(data);\n    });\n    return ws;\n};\n\nmpl.mpl_figure_comm = function (comm, msg) {\n    // This is the function which gets called when the mpl process\n    // starts-up an IPython Comm through the \"matplotlib\" channel.\n\n    var id = msg.content.data.id;\n    // Get hold of the div created by the display call when the Comm\n    // socket was opened in Python.\n    var element = document.getElementById(id);\n    var ws_proxy = comm_websocket_adapter(comm);\n\n    function ondownload(figure, _format) {\n        window.open(figure.canvas.toDataURL());\n    }\n\n    var fig = new mpl.figure(id, ws_proxy, ondownload, element);\n\n    // Call onopen now - mpl needs it, as it is assuming we've passed it a real\n    // web socket which is closed, not our websocket->open comm proxy.\n    ws_proxy.onopen();\n\n    fig.parent_element = element;\n    fig.cell_info = mpl.find_output_cell(\"<div id='\" + id + \"'></div>\");\n    if (!fig.cell_info) {\n        console.error('Failed to find cell for figure', id, fig);\n        return;\n    }\n    fig.cell_info[0].output_area.element.on(\n        'cleared',\n        { fig: fig },\n        fig._remove_fig_handler\n    );\n};\n\nmpl.figure.prototype.handle_close = function (fig, msg) {\n    var width = fig.canvas.width / fig.ratio;\n    fig.cell_info[0].output_area.element.off(\n        'cleared',\n        fig._remove_fig_handler\n    );\n    fig.resizeObserverInstance.unobserve(fig.canvas_div);\n\n    // Update the output cell to use the data from the current canvas.\n    fig.push_to_output();\n    var dataURL = fig.canvas.toDataURL();\n    // Re-enable the keyboard manager in IPython - without this line, in FF,\n    // the notebook keyboard shortcuts fail.\n    IPython.keyboard_manager.enable();\n    fig.parent_element.innerHTML =\n        '<img src=\"' + dataURL + '\" width=\"' + width + '\">';\n    fig.close_ws(fig, msg);\n};\n\nmpl.figure.prototype.close_ws = function (fig, msg) {\n    fig.send_message('closing', msg);\n    // fig.ws.close()\n};\n\nmpl.figure.prototype.push_to_output = function (_remove_interactive) {\n    // Turn the data on the canvas into data in the output cell.\n    var width = this.canvas.width / this.ratio;\n    var dataURL = this.canvas.toDataURL();\n    this.cell_info[1]['text/html'] =\n        '<img src=\"' + dataURL + '\" width=\"' + width + '\">';\n};\n\nmpl.figure.prototype.updated_canvas_event = function () {\n    // Tell IPython that the notebook contents must change.\n    IPython.notebook.set_dirty(true);\n    this.send_message('ack', {});\n    var fig = this;\n    // Wait a second, then push the new image to the DOM so\n    // that it is saved nicely (might be nice to debounce this).\n    setTimeout(function () {\n        fig.push_to_output();\n    }, 1000);\n};\n\nmpl.figure.prototype._init_toolbar = function () {\n    var fig = this;\n\n    var toolbar = document.createElement('div');\n    toolbar.classList = 'btn-toolbar';\n    this.root.appendChild(toolbar);\n\n    function on_click_closure(name) {\n        return function (_event) {\n            return fig.toolbar_button_onclick(name);\n        };\n    }\n\n    function on_mouseover_closure(tooltip) {\n        return function (event) {\n            if (!event.currentTarget.disabled) {\n                return fig.toolbar_button_onmouseover(tooltip);\n            }\n        };\n    }\n\n    fig.buttons = {};\n    var buttonGroup = document.createElement('div');\n    buttonGroup.classList = 'btn-group';\n    var button;\n    for (var toolbar_ind in mpl.toolbar_items) {\n        var name = mpl.toolbar_items[toolbar_ind][0];\n        var tooltip = mpl.toolbar_items[toolbar_ind][1];\n        var image = mpl.toolbar_items[toolbar_ind][2];\n        var method_name = mpl.toolbar_items[toolbar_ind][3];\n\n        if (!name) {\n            /* Instead of a spacer, we start a new button group. */\n            if (buttonGroup.hasChildNodes()) {\n                toolbar.appendChild(buttonGroup);\n            }\n            buttonGroup = document.createElement('div');\n            buttonGroup.classList = 'btn-group';\n            continue;\n        }\n\n        button = fig.buttons[name] = document.createElement('button');\n        button.classList = 'btn btn-default';\n        button.href = '#';\n        button.title = name;\n        button.innerHTML = '<i class=\"fa ' + image + ' fa-lg\"></i>';\n        button.addEventListener('click', on_click_closure(method_name));\n        button.addEventListener('mouseover', on_mouseover_closure(tooltip));\n        buttonGroup.appendChild(button);\n    }\n\n    if (buttonGroup.hasChildNodes()) {\n        toolbar.appendChild(buttonGroup);\n    }\n\n    // Add the status bar.\n    var status_bar = document.createElement('span');\n    status_bar.classList = 'mpl-message pull-right';\n    toolbar.appendChild(status_bar);\n    this.message = status_bar;\n\n    // Add the close button to the window.\n    var buttongrp = document.createElement('div');\n    buttongrp.classList = 'btn-group inline pull-right';\n    button = document.createElement('button');\n    button.classList = 'btn btn-mini btn-primary';\n    button.href = '#';\n    button.title = 'Stop Interaction';\n    button.innerHTML = '<i class=\"fa fa-power-off icon-remove icon-large\"></i>';\n    button.addEventListener('click', function (_evt) {\n        fig.handle_close(fig, {});\n    });\n    button.addEventListener(\n        'mouseover',\n        on_mouseover_closure('Stop Interaction')\n    );\n    buttongrp.appendChild(button);\n    var titlebar = this.root.querySelector('.ui-dialog-titlebar');\n    titlebar.insertBefore(buttongrp, titlebar.firstChild);\n};\n\nmpl.figure.prototype._remove_fig_handler = function (event) {\n    var fig = event.data.fig;\n    if (event.target !== this) {\n        // Ignore bubbled events from children.\n        return;\n    }\n    fig.close_ws(fig, {});\n};\n\nmpl.figure.prototype._root_extra_style = function (el) {\n    el.style.boxSizing = 'content-box'; // override notebook setting of border-box.\n};\n\nmpl.figure.prototype._canvas_extra_style = function (el) {\n    // this is important to make the div 'focusable\n    el.setAttribute('tabindex', 0);\n    // reach out to IPython and tell the keyboard manager to turn it's self\n    // off when our div gets focus\n\n    // location in version 3\n    if (IPython.notebook.keyboard_manager) {\n        IPython.notebook.keyboard_manager.register_events(el);\n    } else {\n        // location in version 2\n        IPython.keyboard_manager.register_events(el);\n    }\n};\n\nmpl.figure.prototype._key_event_extra = function (event, _name) {\n    // Check for shift+enter\n    if (event.shiftKey && event.which === 13) {\n        this.canvas_div.blur();\n        // select the cell after this one\n        var index = IPython.notebook.find_cell_index(this.cell_info[0]);\n        IPython.notebook.select(index + 1);\n    }\n};\n\nmpl.figure.prototype.handle_save = function (fig, _msg) {\n    fig.ondownload(fig, null);\n};\n\nmpl.find_output_cell = function (html_output) {\n    // Return the cell and output element which can be found *uniquely* in the notebook.\n    // Note - this is a bit hacky, but it is done because the \"notebook_saving.Notebook\"\n    // IPython event is triggered only after the cells have been serialised, which for\n    // our purposes (turning an active figure into a static one), is too late.\n    var cells = IPython.notebook.get_cells();\n    var ncells = cells.length;\n    for (var i = 0; i < ncells; i++) {\n        var cell = cells[i];\n        if (cell.cell_type === 'code') {\n            for (var j = 0; j < cell.output_area.outputs.length; j++) {\n                var data = cell.output_area.outputs[j];\n                if (data.data) {\n                    // IPython >= 3 moved mimebundle to data attribute of output\n                    data = data.data;\n                }\n                if (data['text/html'] === html_output) {\n                    return [cell, data, j];\n                }\n            }\n        }\n    }\n};\n\n// Register the function which deals with the matplotlib target/channel.\n// The kernel may be null if the page has been refreshed.\nif (IPython.notebook.kernel !== null) {\n    IPython.notebook.kernel.comm_manager.register_target(\n        'matplotlib',\n        mpl.mpl_figure_comm\n    );\n}\n",
      "text/plain": [
       "<IPython.core.display.Javascript object>"
      ]
     },
     "metadata": {},
     "output_type": "display_data"
    },
    {
     "data": {
      "text/html": [
       "<div id='1f0c773a-1ee6-413d-af73-292052f00595'></div>"
      ],
      "text/plain": [
       "<IPython.core.display.HTML object>"
      ]
     },
     "metadata": {},
     "output_type": "display_data"
    }
   ],
   "source": [
    "puma.plot(sol.q);"
   ]
  },
  {
   "cell_type": "code",
   "execution_count": 15,
   "metadata": {},
   "outputs": [
    {
     "data": {
      "text/plain": [
       "IKsolution(q=array([ 2.10117673,  1.11634865,  0.3       ,  0.9527867 , -1.65052534, -0.9859752 ]), success=True, reason='')"
      ]
     },
     "execution_count": 15,
     "metadata": {},
     "output_type": "execute_result"
    }
   ],
   "source": [
    "puma.ikine_a(T, config=\"lun\")"
   ]
  },
  {
   "cell_type": "code",
   "execution_count": 16,
   "metadata": {},
   "outputs": [],
   "source": [
    "from roboticstoolbox import ETS as ET"
   ]
  },
  {
   "cell_type": "code",
   "execution_count": 17,
   "metadata": {},
   "outputs": [],
   "source": [
    "# Puma dimensions (m), see RVC2 Fig. 7.4 for details\n",
    "l1 = 0.672\n",
    "l2 = -0.2337\n",
    "l3 = 0.4318\n",
    "l4 = 0.0203\n",
    "l5 = 0.0837\n",
    "l6 = 0.4318;"
   ]
  },
  {
   "cell_type": "code",
   "execution_count": 18,
   "metadata": {},
   "outputs": [
    {
     "data": {
      "text/plain": [
       "tz(0.672) ⊕ Rz(q0) ⊕ ty(-0.2337) ⊕ Ry(q1) ⊕ tz(0.4318) ⊕ tx(0.0203) ⊕ ty(0.0837) ⊕ Ry(q2) ⊕ tz(0.4318) ⊕ Rz(q3) ⊕ Ry(q4) ⊕ Rz(q5)"
      ]
     },
     "execution_count": 18,
     "metadata": {},
     "output_type": "execute_result"
    }
   ],
   "source": [
    "e = ET.tz(l1) * ET.rz() * ET.ty(l2) * ET.ry() \\\n",
    "    * ET.tz(l3) * ET.tx(l4) * ET.ty(l5) * ET.ry() \\\n",
    "    * ET.tz(l6) * ET.rz() * ET.ry() * ET.rz()"
   ]
  },
  {
   "cell_type": "code",
   "execution_count": 19,
   "metadata": {},
   "outputs": [
    {
     "name": "stdout",
     "output_type": "stream",
     "text": [
      "ERobot: noname, 6 joints (RRRRRR)\n",
      "┌───┬────────┬───────┬────────┬───────────────────────────────────────────────────────────────────┐\n",
      "│id │  link  │ joint │ parent │                                ETS                                │\n",
      "├───┼────────┼───────┼────────┼───────────────────────────────────────────────────────────────────┤\n",
      "│ 1\u001b[0m │ link0\u001b[0m  │     0\u001b[0m │ BASE\u001b[0m   │ {link0} = {BASE} ⊕ tz(0.672) ⊕ Rz(q0)\u001b[0m                             │\n",
      "│ 2\u001b[0m │ link1\u001b[0m  │     1\u001b[0m │ link0\u001b[0m  │ {link1} = {link0} ⊕ ty(-0.2337) ⊕ Ry(q1)\u001b[0m                          │\n",
      "│ 3\u001b[0m │ link2\u001b[0m  │     2\u001b[0m │ link1\u001b[0m  │ {link2} = {link1} ⊕ tz(0.4318) ⊕ tx(0.0203) ⊕ ty(0.0837) ⊕ Ry(q2)\u001b[0m │\n",
      "│ 4\u001b[0m │ link3\u001b[0m  │     3\u001b[0m │ link2\u001b[0m  │ {link3} = {link2} ⊕ tz(0.4318) ⊕ Rz(q3)\u001b[0m                           │\n",
      "│ 5\u001b[0m │ link4\u001b[0m  │     4\u001b[0m │ link3\u001b[0m  │ {link4} = {link3} ⊕ Ry(q4)\u001b[0m                                        │\n",
      "│ 6\u001b[0m │ @link5\u001b[0m │     5\u001b[0m │ link4\u001b[0m  │ {link5} = {link4} ⊕ Rz(q5)\u001b[0m                                        │\n",
      "└───┴────────┴───────┴────────┴───────────────────────────────────────────────────────────────────┘\n",
      "\n"
     ]
    }
   ],
   "source": [
    "robot = ERobot(e)\n",
    "print(robot)"
   ]
  },
  {
   "cell_type": "code",
   "execution_count": 20,
   "metadata": {
    "lines_to_next_cell": 2
   },
   "outputs": [
    {
     "name": "stdout",
     "output_type": "stream",
     "text": [
      "ERobot: panda (by Franka Emika), 7 joints (RRRRRRR), geometry, collision\n",
      "┌───┬──────────────┬───────┬─────────────┬─────────────────────────────────────────────────────────────────────────────┐\n",
      "│id │     link     │ joint │   parent    │                                     ETS                                     │\n",
      "├───┼──────────────┼───────┼─────────────┼─────────────────────────────────────────────────────────────────────────────┤\n",
      "│ 1\u001b[0m │ \u001b[38;5;4mpanda_link0\u001b[0m  │      \u001b[0m │ BASE\u001b[0m        │ {panda_link0} = {BASE}\u001b[0m                                                      │\n",
      "│ 2\u001b[0m │ panda_link1\u001b[0m  │     0\u001b[0m │ panda_link0\u001b[0m │ {panda_link1} = {panda_link0} ⊕ tz(0.333) ⊕ Rz(q0)\u001b[0m                          │\n",
      "│ 3\u001b[0m │ panda_link2\u001b[0m  │     1\u001b[0m │ panda_link1\u001b[0m │ {panda_link2} = {panda_link1} ⊕ Rx(-90°) ⊕ Rz(q1)\u001b[0m                           │\n",
      "│ 4\u001b[0m │ panda_link3\u001b[0m  │     2\u001b[0m │ panda_link2\u001b[0m │ {panda_link3} = {panda_link2} ⊕ ty(-0.316) ⊕ Rx(90°) ⊕ Rz(q2)\u001b[0m               │\n",
      "│ 5\u001b[0m │ panda_link4\u001b[0m  │     3\u001b[0m │ panda_link3\u001b[0m │ {panda_link4} = {panda_link3} ⊕ tx(0.0825) ⊕ Rx(90°) ⊕ Rz(q3)\u001b[0m               │\n",
      "│ 6\u001b[0m │ panda_link5\u001b[0m  │     4\u001b[0m │ panda_link4\u001b[0m │ {panda_link5} = {panda_link4} ⊕ tx(-0.0825) ⊕ ty(0.384) ⊕ Rx(-90°) ⊕ Rz(q4)\u001b[0m │\n",
      "│ 7\u001b[0m │ panda_link6\u001b[0m  │     5\u001b[0m │ panda_link5\u001b[0m │ {panda_link6} = {panda_link5} ⊕ Rx(90°) ⊕ Rz(q5)\u001b[0m                            │\n",
      "│ 8\u001b[0m │ panda_link7\u001b[0m  │     6\u001b[0m │ panda_link6\u001b[0m │ {panda_link7} = {panda_link6} ⊕ tx(0.088) ⊕ Rx(90°) ⊕ Rz(q6)\u001b[0m                │\n",
      "│ 9\u001b[0m │ \u001b[38;5;4m@panda_link8\u001b[0m │      \u001b[0m │ panda_link7\u001b[0m │ {panda_link8} = {panda_link7} ⊕ tz(0.107)\u001b[0m                                   │\n",
      "└───┴──────────────┴───────┴─────────────┴─────────────────────────────────────────────────────────────────────────────┘\n",
      "\n",
      "┌─────┬─────┬────────┬─────┬───────┬─────┬───────┬──────┐\n",
      "│name │ q0  │ q1     │ q2  │ q3    │ q4  │ q5    │ q6   │\n",
      "├─────┼─────┼────────┼─────┼───────┼─────┼───────┼──────┤\n",
      "│  qz\u001b[0m │  0°\u001b[0m │  0°\u001b[0m    │  0°\u001b[0m │  0°\u001b[0m   │  0°\u001b[0m │  0°\u001b[0m   │  0°\u001b[0m  │\n",
      "│  qr\u001b[0m │  0°\u001b[0m │ -17.2°\u001b[0m │  0°\u001b[0m │ -126°\u001b[0m │  0°\u001b[0m │  115°\u001b[0m │  45°\u001b[0m │\n",
      "└─────┴─────┴────────┴─────┴───────┴─────┴───────┴──────┘\n",
      "\n"
     ]
    }
   ],
   "source": [
    "panda = models.URDF.Panda()\n",
    "print(panda)"
   ]
  },
  {
   "cell_type": "markdown",
   "metadata": {},
   "source": [
    "## B. Trajectories"
   ]
  },
  {
   "cell_type": "code",
   "execution_count": 25,
   "metadata": {},
   "outputs": [
    {
     "data": {
      "application/javascript": "/* Put everything inside the global mpl namespace */\n/* global mpl */\nwindow.mpl = {};\n\nmpl.get_websocket_type = function () {\n    if (typeof WebSocket !== 'undefined') {\n        return WebSocket;\n    } else if (typeof MozWebSocket !== 'undefined') {\n        return MozWebSocket;\n    } else {\n        alert(\n            'Your browser does not have WebSocket support. ' +\n                'Please try Chrome, Safari or Firefox ≥ 6. ' +\n                'Firefox 4 and 5 are also supported but you ' +\n                'have to enable WebSockets in about:config.'\n        );\n    }\n};\n\nmpl.figure = function (figure_id, websocket, ondownload, parent_element) {\n    this.id = figure_id;\n\n    this.ws = websocket;\n\n    this.supports_binary = this.ws.binaryType !== undefined;\n\n    if (!this.supports_binary) {\n        var warnings = document.getElementById('mpl-warnings');\n        if (warnings) {\n            warnings.style.display = 'block';\n            warnings.textContent =\n                'This browser does not support binary websocket messages. ' +\n                'Performance may be slow.';\n        }\n    }\n\n    this.imageObj = new Image();\n\n    this.context = undefined;\n    this.message = undefined;\n    this.canvas = undefined;\n    this.rubberband_canvas = undefined;\n    this.rubberband_context = undefined;\n    this.format_dropdown = undefined;\n\n    this.image_mode = 'full';\n\n    this.root = document.createElement('div');\n    this.root.setAttribute('style', 'display: inline-block');\n    this._root_extra_style(this.root);\n\n    parent_element.appendChild(this.root);\n\n    this._init_header(this);\n    this._init_canvas(this);\n    this._init_toolbar(this);\n\n    var fig = this;\n\n    this.waiting = false;\n\n    this.ws.onopen = function () {\n        fig.send_message('supports_binary', { value: fig.supports_binary });\n        fig.send_message('send_image_mode', {});\n        if (fig.ratio !== 1) {\n            fig.send_message('set_dpi_ratio', { dpi_ratio: fig.ratio });\n        }\n        fig.send_message('refresh', {});\n    };\n\n    this.imageObj.onload = function () {\n        if (fig.image_mode === 'full') {\n            // Full images could contain transparency (where diff images\n            // almost always do), so we need to clear the canvas so that\n            // there is no ghosting.\n            fig.context.clearRect(0, 0, fig.canvas.width, fig.canvas.height);\n        }\n        fig.context.drawImage(fig.imageObj, 0, 0);\n    };\n\n    this.imageObj.onunload = function () {\n        fig.ws.close();\n    };\n\n    this.ws.onmessage = this._make_on_message_function(this);\n\n    this.ondownload = ondownload;\n};\n\nmpl.figure.prototype._init_header = function () {\n    var titlebar = document.createElement('div');\n    titlebar.classList =\n        'ui-dialog-titlebar ui-widget-header ui-corner-all ui-helper-clearfix';\n    var titletext = document.createElement('div');\n    titletext.classList = 'ui-dialog-title';\n    titletext.setAttribute(\n        'style',\n        'width: 100%; text-align: center; padding: 3px;'\n    );\n    titlebar.appendChild(titletext);\n    this.root.appendChild(titlebar);\n    this.header = titletext;\n};\n\nmpl.figure.prototype._canvas_extra_style = function (_canvas_div) {};\n\nmpl.figure.prototype._root_extra_style = function (_canvas_div) {};\n\nmpl.figure.prototype._init_canvas = function () {\n    var fig = this;\n\n    var canvas_div = (this.canvas_div = document.createElement('div'));\n    canvas_div.setAttribute(\n        'style',\n        'border: 1px solid #ddd;' +\n            'box-sizing: content-box;' +\n            'clear: both;' +\n            'min-height: 1px;' +\n            'min-width: 1px;' +\n            'outline: 0;' +\n            'overflow: hidden;' +\n            'position: relative;' +\n            'resize: both;'\n    );\n\n    function on_keyboard_event_closure(name) {\n        return function (event) {\n            return fig.key_event(event, name);\n        };\n    }\n\n    canvas_div.addEventListener(\n        'keydown',\n        on_keyboard_event_closure('key_press')\n    );\n    canvas_div.addEventListener(\n        'keyup',\n        on_keyboard_event_closure('key_release')\n    );\n\n    this._canvas_extra_style(canvas_div);\n    this.root.appendChild(canvas_div);\n\n    var canvas = (this.canvas = document.createElement('canvas'));\n    canvas.classList.add('mpl-canvas');\n    canvas.setAttribute('style', 'box-sizing: content-box;');\n\n    this.context = canvas.getContext('2d');\n\n    var backingStore =\n        this.context.backingStorePixelRatio ||\n        this.context.webkitBackingStorePixelRatio ||\n        this.context.mozBackingStorePixelRatio ||\n        this.context.msBackingStorePixelRatio ||\n        this.context.oBackingStorePixelRatio ||\n        this.context.backingStorePixelRatio ||\n        1;\n\n    this.ratio = (window.devicePixelRatio || 1) / backingStore;\n\n    var rubberband_canvas = (this.rubberband_canvas = document.createElement(\n        'canvas'\n    ));\n    rubberband_canvas.setAttribute(\n        'style',\n        'box-sizing: content-box; position: absolute; left: 0; top: 0; z-index: 1;'\n    );\n\n    // Apply a ponyfill if ResizeObserver is not implemented by browser.\n    if (this.ResizeObserver === undefined) {\n        if (window.ResizeObserver !== undefined) {\n            this.ResizeObserver = window.ResizeObserver;\n        } else {\n            var obs = _JSXTOOLS_RESIZE_OBSERVER({});\n            this.ResizeObserver = obs.ResizeObserver;\n        }\n    }\n\n    this.resizeObserverInstance = new this.ResizeObserver(function (entries) {\n        var nentries = entries.length;\n        for (var i = 0; i < nentries; i++) {\n            var entry = entries[i];\n            var width, height;\n            if (entry.contentBoxSize) {\n                if (entry.contentBoxSize instanceof Array) {\n                    // Chrome 84 implements new version of spec.\n                    width = entry.contentBoxSize[0].inlineSize;\n                    height = entry.contentBoxSize[0].blockSize;\n                } else {\n                    // Firefox implements old version of spec.\n                    width = entry.contentBoxSize.inlineSize;\n                    height = entry.contentBoxSize.blockSize;\n                }\n            } else {\n                // Chrome <84 implements even older version of spec.\n                width = entry.contentRect.width;\n                height = entry.contentRect.height;\n            }\n\n            // Keep the size of the canvas and rubber band canvas in sync with\n            // the canvas container.\n            if (entry.devicePixelContentBoxSize) {\n                // Chrome 84 implements new version of spec.\n                canvas.setAttribute(\n                    'width',\n                    entry.devicePixelContentBoxSize[0].inlineSize\n                );\n                canvas.setAttribute(\n                    'height',\n                    entry.devicePixelContentBoxSize[0].blockSize\n                );\n            } else {\n                canvas.setAttribute('width', width * fig.ratio);\n                canvas.setAttribute('height', height * fig.ratio);\n            }\n            canvas.setAttribute(\n                'style',\n                'width: ' + width + 'px; height: ' + height + 'px;'\n            );\n\n            rubberband_canvas.setAttribute('width', width);\n            rubberband_canvas.setAttribute('height', height);\n\n            // And update the size in Python. We ignore the initial 0/0 size\n            // that occurs as the element is placed into the DOM, which should\n            // otherwise not happen due to the minimum size styling.\n            if (fig.ws.readyState == 1 && width != 0 && height != 0) {\n                fig.request_resize(width, height);\n            }\n        }\n    });\n    this.resizeObserverInstance.observe(canvas_div);\n\n    function on_mouse_event_closure(name) {\n        return function (event) {\n            return fig.mouse_event(event, name);\n        };\n    }\n\n    rubberband_canvas.addEventListener(\n        'mousedown',\n        on_mouse_event_closure('button_press')\n    );\n    rubberband_canvas.addEventListener(\n        'mouseup',\n        on_mouse_event_closure('button_release')\n    );\n    // Throttle sequential mouse events to 1 every 20ms.\n    rubberband_canvas.addEventListener(\n        'mousemove',\n        on_mouse_event_closure('motion_notify')\n    );\n\n    rubberband_canvas.addEventListener(\n        'mouseenter',\n        on_mouse_event_closure('figure_enter')\n    );\n    rubberband_canvas.addEventListener(\n        'mouseleave',\n        on_mouse_event_closure('figure_leave')\n    );\n\n    canvas_div.addEventListener('wheel', function (event) {\n        if (event.deltaY < 0) {\n            event.step = 1;\n        } else {\n            event.step = -1;\n        }\n        on_mouse_event_closure('scroll')(event);\n    });\n\n    canvas_div.appendChild(canvas);\n    canvas_div.appendChild(rubberband_canvas);\n\n    this.rubberband_context = rubberband_canvas.getContext('2d');\n    this.rubberband_context.strokeStyle = '#000000';\n\n    this._resize_canvas = function (width, height, forward) {\n        if (forward) {\n            canvas_div.style.width = width + 'px';\n            canvas_div.style.height = height + 'px';\n        }\n    };\n\n    // Disable right mouse context menu.\n    this.rubberband_canvas.addEventListener('contextmenu', function (_e) {\n        event.preventDefault();\n        return false;\n    });\n\n    function set_focus() {\n        canvas.focus();\n        canvas_div.focus();\n    }\n\n    window.setTimeout(set_focus, 100);\n};\n\nmpl.figure.prototype._init_toolbar = function () {\n    var fig = this;\n\n    var toolbar = document.createElement('div');\n    toolbar.classList = 'mpl-toolbar';\n    this.root.appendChild(toolbar);\n\n    function on_click_closure(name) {\n        return function (_event) {\n            return fig.toolbar_button_onclick(name);\n        };\n    }\n\n    function on_mouseover_closure(tooltip) {\n        return function (event) {\n            if (!event.currentTarget.disabled) {\n                return fig.toolbar_button_onmouseover(tooltip);\n            }\n        };\n    }\n\n    fig.buttons = {};\n    var buttonGroup = document.createElement('div');\n    buttonGroup.classList = 'mpl-button-group';\n    for (var toolbar_ind in mpl.toolbar_items) {\n        var name = mpl.toolbar_items[toolbar_ind][0];\n        var tooltip = mpl.toolbar_items[toolbar_ind][1];\n        var image = mpl.toolbar_items[toolbar_ind][2];\n        var method_name = mpl.toolbar_items[toolbar_ind][3];\n\n        if (!name) {\n            /* Instead of a spacer, we start a new button group. */\n            if (buttonGroup.hasChildNodes()) {\n                toolbar.appendChild(buttonGroup);\n            }\n            buttonGroup = document.createElement('div');\n            buttonGroup.classList = 'mpl-button-group';\n            continue;\n        }\n\n        var button = (fig.buttons[name] = document.createElement('button'));\n        button.classList = 'mpl-widget';\n        button.setAttribute('role', 'button');\n        button.setAttribute('aria-disabled', 'false');\n        button.addEventListener('click', on_click_closure(method_name));\n        button.addEventListener('mouseover', on_mouseover_closure(tooltip));\n\n        var icon_img = document.createElement('img');\n        icon_img.src = '_images/' + image + '.png';\n        icon_img.srcset = '_images/' + image + '_large.png 2x';\n        icon_img.alt = tooltip;\n        button.appendChild(icon_img);\n\n        buttonGroup.appendChild(button);\n    }\n\n    if (buttonGroup.hasChildNodes()) {\n        toolbar.appendChild(buttonGroup);\n    }\n\n    var fmt_picker = document.createElement('select');\n    fmt_picker.classList = 'mpl-widget';\n    toolbar.appendChild(fmt_picker);\n    this.format_dropdown = fmt_picker;\n\n    for (var ind in mpl.extensions) {\n        var fmt = mpl.extensions[ind];\n        var option = document.createElement('option');\n        option.selected = fmt === mpl.default_extension;\n        option.innerHTML = fmt;\n        fmt_picker.appendChild(option);\n    }\n\n    var status_bar = document.createElement('span');\n    status_bar.classList = 'mpl-message';\n    toolbar.appendChild(status_bar);\n    this.message = status_bar;\n};\n\nmpl.figure.prototype.request_resize = function (x_pixels, y_pixels) {\n    // Request matplotlib to resize the figure. Matplotlib will then trigger a resize in the client,\n    // which will in turn request a refresh of the image.\n    this.send_message('resize', { width: x_pixels, height: y_pixels });\n};\n\nmpl.figure.prototype.send_message = function (type, properties) {\n    properties['type'] = type;\n    properties['figure_id'] = this.id;\n    this.ws.send(JSON.stringify(properties));\n};\n\nmpl.figure.prototype.send_draw_message = function () {\n    if (!this.waiting) {\n        this.waiting = true;\n        this.ws.send(JSON.stringify({ type: 'draw', figure_id: this.id }));\n    }\n};\n\nmpl.figure.prototype.handle_save = function (fig, _msg) {\n    var format_dropdown = fig.format_dropdown;\n    var format = format_dropdown.options[format_dropdown.selectedIndex].value;\n    fig.ondownload(fig, format);\n};\n\nmpl.figure.prototype.handle_resize = function (fig, msg) {\n    var size = msg['size'];\n    if (size[0] !== fig.canvas.width || size[1] !== fig.canvas.height) {\n        fig._resize_canvas(size[0], size[1], msg['forward']);\n        fig.send_message('refresh', {});\n    }\n};\n\nmpl.figure.prototype.handle_rubberband = function (fig, msg) {\n    var x0 = msg['x0'] / fig.ratio;\n    var y0 = (fig.canvas.height - msg['y0']) / fig.ratio;\n    var x1 = msg['x1'] / fig.ratio;\n    var y1 = (fig.canvas.height - msg['y1']) / fig.ratio;\n    x0 = Math.floor(x0) + 0.5;\n    y0 = Math.floor(y0) + 0.5;\n    x1 = Math.floor(x1) + 0.5;\n    y1 = Math.floor(y1) + 0.5;\n    var min_x = Math.min(x0, x1);\n    var min_y = Math.min(y0, y1);\n    var width = Math.abs(x1 - x0);\n    var height = Math.abs(y1 - y0);\n\n    fig.rubberband_context.clearRect(\n        0,\n        0,\n        fig.canvas.width / fig.ratio,\n        fig.canvas.height / fig.ratio\n    );\n\n    fig.rubberband_context.strokeRect(min_x, min_y, width, height);\n};\n\nmpl.figure.prototype.handle_figure_label = function (fig, msg) {\n    // Updates the figure title.\n    fig.header.textContent = msg['label'];\n};\n\nmpl.figure.prototype.handle_cursor = function (fig, msg) {\n    var cursor = msg['cursor'];\n    switch (cursor) {\n        case 0:\n            cursor = 'pointer';\n            break;\n        case 1:\n            cursor = 'default';\n            break;\n        case 2:\n            cursor = 'crosshair';\n            break;\n        case 3:\n            cursor = 'move';\n            break;\n    }\n    fig.rubberband_canvas.style.cursor = cursor;\n};\n\nmpl.figure.prototype.handle_message = function (fig, msg) {\n    fig.message.textContent = msg['message'];\n};\n\nmpl.figure.prototype.handle_draw = function (fig, _msg) {\n    // Request the server to send over a new figure.\n    fig.send_draw_message();\n};\n\nmpl.figure.prototype.handle_image_mode = function (fig, msg) {\n    fig.image_mode = msg['mode'];\n};\n\nmpl.figure.prototype.handle_history_buttons = function (fig, msg) {\n    for (var key in msg) {\n        if (!(key in fig.buttons)) {\n            continue;\n        }\n        fig.buttons[key].disabled = !msg[key];\n        fig.buttons[key].setAttribute('aria-disabled', !msg[key]);\n    }\n};\n\nmpl.figure.prototype.handle_navigate_mode = function (fig, msg) {\n    if (msg['mode'] === 'PAN') {\n        fig.buttons['Pan'].classList.add('active');\n        fig.buttons['Zoom'].classList.remove('active');\n    } else if (msg['mode'] === 'ZOOM') {\n        fig.buttons['Pan'].classList.remove('active');\n        fig.buttons['Zoom'].classList.add('active');\n    } else {\n        fig.buttons['Pan'].classList.remove('active');\n        fig.buttons['Zoom'].classList.remove('active');\n    }\n};\n\nmpl.figure.prototype.updated_canvas_event = function () {\n    // Called whenever the canvas gets updated.\n    this.send_message('ack', {});\n};\n\n// A function to construct a web socket function for onmessage handling.\n// Called in the figure constructor.\nmpl.figure.prototype._make_on_message_function = function (fig) {\n    return function socket_on_message(evt) {\n        if (evt.data instanceof Blob) {\n            /* FIXME: We get \"Resource interpreted as Image but\n             * transferred with MIME type text/plain:\" errors on\n             * Chrome.  But how to set the MIME type?  It doesn't seem\n             * to be part of the websocket stream */\n            evt.data.type = 'image/png';\n\n            /* Free the memory for the previous frames */\n            if (fig.imageObj.src) {\n                (window.URL || window.webkitURL).revokeObjectURL(\n                    fig.imageObj.src\n                );\n            }\n\n            fig.imageObj.src = (window.URL || window.webkitURL).createObjectURL(\n                evt.data\n            );\n            fig.updated_canvas_event();\n            fig.waiting = false;\n            return;\n        } else if (\n            typeof evt.data === 'string' &&\n            evt.data.slice(0, 21) === 'data:image/png;base64'\n        ) {\n            fig.imageObj.src = evt.data;\n            fig.updated_canvas_event();\n            fig.waiting = false;\n            return;\n        }\n\n        var msg = JSON.parse(evt.data);\n        var msg_type = msg['type'];\n\n        // Call the  \"handle_{type}\" callback, which takes\n        // the figure and JSON message as its only arguments.\n        try {\n            var callback = fig['handle_' + msg_type];\n        } catch (e) {\n            console.log(\n                \"No handler for the '\" + msg_type + \"' message type: \",\n                msg\n            );\n            return;\n        }\n\n        if (callback) {\n            try {\n                // console.log(\"Handling '\" + msg_type + \"' message: \", msg);\n                callback(fig, msg);\n            } catch (e) {\n                console.log(\n                    \"Exception inside the 'handler_\" + msg_type + \"' callback:\",\n                    e,\n                    e.stack,\n                    msg\n                );\n            }\n        }\n    };\n};\n\n// from http://stackoverflow.com/questions/1114465/getting-mouse-location-in-canvas\nmpl.findpos = function (e) {\n    //this section is from http://www.quirksmode.org/js/events_properties.html\n    var targ;\n    if (!e) {\n        e = window.event;\n    }\n    if (e.target) {\n        targ = e.target;\n    } else if (e.srcElement) {\n        targ = e.srcElement;\n    }\n    if (targ.nodeType === 3) {\n        // defeat Safari bug\n        targ = targ.parentNode;\n    }\n\n    // pageX,Y are the mouse positions relative to the document\n    var boundingRect = targ.getBoundingClientRect();\n    var x = e.pageX - (boundingRect.left + document.body.scrollLeft);\n    var y = e.pageY - (boundingRect.top + document.body.scrollTop);\n\n    return { x: x, y: y };\n};\n\n/*\n * return a copy of an object with only non-object keys\n * we need this to avoid circular references\n * http://stackoverflow.com/a/24161582/3208463\n */\nfunction simpleKeys(original) {\n    return Object.keys(original).reduce(function (obj, key) {\n        if (typeof original[key] !== 'object') {\n            obj[key] = original[key];\n        }\n        return obj;\n    }, {});\n}\n\nmpl.figure.prototype.mouse_event = function (event, name) {\n    var canvas_pos = mpl.findpos(event);\n\n    if (name === 'button_press') {\n        this.canvas.focus();\n        this.canvas_div.focus();\n    }\n\n    var x = canvas_pos.x * this.ratio;\n    var y = canvas_pos.y * this.ratio;\n\n    this.send_message(name, {\n        x: x,\n        y: y,\n        button: event.button,\n        step: event.step,\n        guiEvent: simpleKeys(event),\n    });\n\n    /* This prevents the web browser from automatically changing to\n     * the text insertion cursor when the button is pressed.  We want\n     * to control all of the cursor setting manually through the\n     * 'cursor' event from matplotlib */\n    event.preventDefault();\n    return false;\n};\n\nmpl.figure.prototype._key_event_extra = function (_event, _name) {\n    // Handle any extra behaviour associated with a key event\n};\n\nmpl.figure.prototype.key_event = function (event, name) {\n    // Prevent repeat events\n    if (name === 'key_press') {\n        if (event.which === this._key) {\n            return;\n        } else {\n            this._key = event.which;\n        }\n    }\n    if (name === 'key_release') {\n        this._key = null;\n    }\n\n    var value = '';\n    if (event.ctrlKey && event.which !== 17) {\n        value += 'ctrl+';\n    }\n    if (event.altKey && event.which !== 18) {\n        value += 'alt+';\n    }\n    if (event.shiftKey && event.which !== 16) {\n        value += 'shift+';\n    }\n\n    value += 'k';\n    value += event.which.toString();\n\n    this._key_event_extra(event, name);\n\n    this.send_message(name, { key: value, guiEvent: simpleKeys(event) });\n    return false;\n};\n\nmpl.figure.prototype.toolbar_button_onclick = function (name) {\n    if (name === 'download') {\n        this.handle_save(this, null);\n    } else {\n        this.send_message('toolbar_button', { name: name });\n    }\n};\n\nmpl.figure.prototype.toolbar_button_onmouseover = function (tooltip) {\n    this.message.textContent = tooltip;\n};\n\n///////////////// REMAINING CONTENT GENERATED BY embed_js.py /////////////////\n// prettier-ignore\nvar _JSXTOOLS_RESIZE_OBSERVER=function(A){var t,i=new WeakMap,n=new WeakMap,a=new WeakMap,r=new WeakMap,o=new Set;function s(e){if(!(this instanceof s))throw new TypeError(\"Constructor requires 'new' operator\");i.set(this,e)}function h(){throw new TypeError(\"Function is not a constructor\")}function c(e,t,i,n){e=0 in arguments?Number(arguments[0]):0,t=1 in arguments?Number(arguments[1]):0,i=2 in arguments?Number(arguments[2]):0,n=3 in arguments?Number(arguments[3]):0,this.right=(this.x=this.left=e)+(this.width=i),this.bottom=(this.y=this.top=t)+(this.height=n),Object.freeze(this)}function d(){t=requestAnimationFrame(d);var s=new WeakMap,p=new Set;o.forEach((function(t){r.get(t).forEach((function(i){var r=t instanceof window.SVGElement,o=a.get(t),d=r?0:parseFloat(o.paddingTop),f=r?0:parseFloat(o.paddingRight),l=r?0:parseFloat(o.paddingBottom),u=r?0:parseFloat(o.paddingLeft),g=r?0:parseFloat(o.borderTopWidth),m=r?0:parseFloat(o.borderRightWidth),w=r?0:parseFloat(o.borderBottomWidth),b=u+f,F=d+l,v=(r?0:parseFloat(o.borderLeftWidth))+m,W=g+w,y=r?0:t.offsetHeight-W-t.clientHeight,E=r?0:t.offsetWidth-v-t.clientWidth,R=b+v,z=F+W,M=r?t.width:parseFloat(o.width)-R-E,O=r?t.height:parseFloat(o.height)-z-y;if(n.has(t)){var k=n.get(t);if(k[0]===M&&k[1]===O)return}n.set(t,[M,O]);var S=Object.create(h.prototype);S.target=t,S.contentRect=new c(u,d,M,O),s.has(i)||(s.set(i,[]),p.add(i)),s.get(i).push(S)}))})),p.forEach((function(e){i.get(e).call(e,s.get(e),e)}))}return s.prototype.observe=function(i){if(i instanceof window.Element){r.has(i)||(r.set(i,new Set),o.add(i),a.set(i,window.getComputedStyle(i)));var n=r.get(i);n.has(this)||n.add(this),cancelAnimationFrame(t),t=requestAnimationFrame(d)}},s.prototype.unobserve=function(i){if(i instanceof window.Element&&r.has(i)){var n=r.get(i);n.has(this)&&(n.delete(this),n.size||(r.delete(i),o.delete(i))),n.size||r.delete(i),o.size||cancelAnimationFrame(t)}},A.DOMRectReadOnly=c,A.ResizeObserver=s,A.ResizeObserverEntry=h,A}; // eslint-disable-line\nmpl.toolbar_items = [[\"Home\", \"Reset original view\", \"fa fa-home icon-home\", \"home\"], [\"Back\", \"Back to previous view\", \"fa fa-arrow-left icon-arrow-left\", \"back\"], [\"Forward\", \"Forward to next view\", \"fa fa-arrow-right icon-arrow-right\", \"forward\"], [\"\", \"\", \"\", \"\"], [\"Pan\", \"Left button pans, Right button zooms\\nx/y fixes axis, CTRL fixes aspect\", \"fa fa-arrows icon-move\", \"pan\"], [\"Zoom\", \"Zoom to rectangle\\nx/y fixes axis, CTRL fixes aspect\", \"fa fa-square-o icon-check-empty\", \"zoom\"], [\"\", \"\", \"\", \"\"], [\"Download\", \"Download plot\", \"fa fa-floppy-o icon-save\", \"download\"]];\n\nmpl.extensions = [\"eps\", \"jpeg\", \"pdf\", \"png\", \"ps\", \"raw\", \"svg\", \"tif\"];\n\nmpl.default_extension = \"png\";/* global mpl */\n\nvar comm_websocket_adapter = function (comm) {\n    // Create a \"websocket\"-like object which calls the given IPython comm\n    // object with the appropriate methods. Currently this is a non binary\n    // socket, so there is still some room for performance tuning.\n    var ws = {};\n\n    ws.close = function () {\n        comm.close();\n    };\n    ws.send = function (m) {\n        //console.log('sending', m);\n        comm.send(m);\n    };\n    // Register the callback with on_msg.\n    comm.on_msg(function (msg) {\n        //console.log('receiving', msg['content']['data'], msg);\n        // Pass the mpl event to the overridden (by mpl) onmessage function.\n        ws.onmessage(msg['content']['data']);\n    });\n    return ws;\n};\n\nmpl.mpl_figure_comm = function (comm, msg) {\n    // This is the function which gets called when the mpl process\n    // starts-up an IPython Comm through the \"matplotlib\" channel.\n\n    var id = msg.content.data.id;\n    // Get hold of the div created by the display call when the Comm\n    // socket was opened in Python.\n    var element = document.getElementById(id);\n    var ws_proxy = comm_websocket_adapter(comm);\n\n    function ondownload(figure, _format) {\n        window.open(figure.canvas.toDataURL());\n    }\n\n    var fig = new mpl.figure(id, ws_proxy, ondownload, element);\n\n    // Call onopen now - mpl needs it, as it is assuming we've passed it a real\n    // web socket which is closed, not our websocket->open comm proxy.\n    ws_proxy.onopen();\n\n    fig.parent_element = element;\n    fig.cell_info = mpl.find_output_cell(\"<div id='\" + id + \"'></div>\");\n    if (!fig.cell_info) {\n        console.error('Failed to find cell for figure', id, fig);\n        return;\n    }\n    fig.cell_info[0].output_area.element.on(\n        'cleared',\n        { fig: fig },\n        fig._remove_fig_handler\n    );\n};\n\nmpl.figure.prototype.handle_close = function (fig, msg) {\n    var width = fig.canvas.width / fig.ratio;\n    fig.cell_info[0].output_area.element.off(\n        'cleared',\n        fig._remove_fig_handler\n    );\n    fig.resizeObserverInstance.unobserve(fig.canvas_div);\n\n    // Update the output cell to use the data from the current canvas.\n    fig.push_to_output();\n    var dataURL = fig.canvas.toDataURL();\n    // Re-enable the keyboard manager in IPython - without this line, in FF,\n    // the notebook keyboard shortcuts fail.\n    IPython.keyboard_manager.enable();\n    fig.parent_element.innerHTML =\n        '<img src=\"' + dataURL + '\" width=\"' + width + '\">';\n    fig.close_ws(fig, msg);\n};\n\nmpl.figure.prototype.close_ws = function (fig, msg) {\n    fig.send_message('closing', msg);\n    // fig.ws.close()\n};\n\nmpl.figure.prototype.push_to_output = function (_remove_interactive) {\n    // Turn the data on the canvas into data in the output cell.\n    var width = this.canvas.width / this.ratio;\n    var dataURL = this.canvas.toDataURL();\n    this.cell_info[1]['text/html'] =\n        '<img src=\"' + dataURL + '\" width=\"' + width + '\">';\n};\n\nmpl.figure.prototype.updated_canvas_event = function () {\n    // Tell IPython that the notebook contents must change.\n    IPython.notebook.set_dirty(true);\n    this.send_message('ack', {});\n    var fig = this;\n    // Wait a second, then push the new image to the DOM so\n    // that it is saved nicely (might be nice to debounce this).\n    setTimeout(function () {\n        fig.push_to_output();\n    }, 1000);\n};\n\nmpl.figure.prototype._init_toolbar = function () {\n    var fig = this;\n\n    var toolbar = document.createElement('div');\n    toolbar.classList = 'btn-toolbar';\n    this.root.appendChild(toolbar);\n\n    function on_click_closure(name) {\n        return function (_event) {\n            return fig.toolbar_button_onclick(name);\n        };\n    }\n\n    function on_mouseover_closure(tooltip) {\n        return function (event) {\n            if (!event.currentTarget.disabled) {\n                return fig.toolbar_button_onmouseover(tooltip);\n            }\n        };\n    }\n\n    fig.buttons = {};\n    var buttonGroup = document.createElement('div');\n    buttonGroup.classList = 'btn-group';\n    var button;\n    for (var toolbar_ind in mpl.toolbar_items) {\n        var name = mpl.toolbar_items[toolbar_ind][0];\n        var tooltip = mpl.toolbar_items[toolbar_ind][1];\n        var image = mpl.toolbar_items[toolbar_ind][2];\n        var method_name = mpl.toolbar_items[toolbar_ind][3];\n\n        if (!name) {\n            /* Instead of a spacer, we start a new button group. */\n            if (buttonGroup.hasChildNodes()) {\n                toolbar.appendChild(buttonGroup);\n            }\n            buttonGroup = document.createElement('div');\n            buttonGroup.classList = 'btn-group';\n            continue;\n        }\n\n        button = fig.buttons[name] = document.createElement('button');\n        button.classList = 'btn btn-default';\n        button.href = '#';\n        button.title = name;\n        button.innerHTML = '<i class=\"fa ' + image + ' fa-lg\"></i>';\n        button.addEventListener('click', on_click_closure(method_name));\n        button.addEventListener('mouseover', on_mouseover_closure(tooltip));\n        buttonGroup.appendChild(button);\n    }\n\n    if (buttonGroup.hasChildNodes()) {\n        toolbar.appendChild(buttonGroup);\n    }\n\n    // Add the status bar.\n    var status_bar = document.createElement('span');\n    status_bar.classList = 'mpl-message pull-right';\n    toolbar.appendChild(status_bar);\n    this.message = status_bar;\n\n    // Add the close button to the window.\n    var buttongrp = document.createElement('div');\n    buttongrp.classList = 'btn-group inline pull-right';\n    button = document.createElement('button');\n    button.classList = 'btn btn-mini btn-primary';\n    button.href = '#';\n    button.title = 'Stop Interaction';\n    button.innerHTML = '<i class=\"fa fa-power-off icon-remove icon-large\"></i>';\n    button.addEventListener('click', function (_evt) {\n        fig.handle_close(fig, {});\n    });\n    button.addEventListener(\n        'mouseover',\n        on_mouseover_closure('Stop Interaction')\n    );\n    buttongrp.appendChild(button);\n    var titlebar = this.root.querySelector('.ui-dialog-titlebar');\n    titlebar.insertBefore(buttongrp, titlebar.firstChild);\n};\n\nmpl.figure.prototype._remove_fig_handler = function (event) {\n    var fig = event.data.fig;\n    if (event.target !== this) {\n        // Ignore bubbled events from children.\n        return;\n    }\n    fig.close_ws(fig, {});\n};\n\nmpl.figure.prototype._root_extra_style = function (el) {\n    el.style.boxSizing = 'content-box'; // override notebook setting of border-box.\n};\n\nmpl.figure.prototype._canvas_extra_style = function (el) {\n    // this is important to make the div 'focusable\n    el.setAttribute('tabindex', 0);\n    // reach out to IPython and tell the keyboard manager to turn it's self\n    // off when our div gets focus\n\n    // location in version 3\n    if (IPython.notebook.keyboard_manager) {\n        IPython.notebook.keyboard_manager.register_events(el);\n    } else {\n        // location in version 2\n        IPython.keyboard_manager.register_events(el);\n    }\n};\n\nmpl.figure.prototype._key_event_extra = function (event, _name) {\n    var manager = IPython.notebook.keyboard_manager;\n    if (!manager) {\n        manager = IPython.keyboard_manager;\n    }\n\n    // Check for shift+enter\n    if (event.shiftKey && event.which === 13) {\n        this.canvas_div.blur();\n        // select the cell after this one\n        var index = IPython.notebook.find_cell_index(this.cell_info[0]);\n        IPython.notebook.select(index + 1);\n    }\n};\n\nmpl.figure.prototype.handle_save = function (fig, _msg) {\n    fig.ondownload(fig, null);\n};\n\nmpl.find_output_cell = function (html_output) {\n    // Return the cell and output element which can be found *uniquely* in the notebook.\n    // Note - this is a bit hacky, but it is done because the \"notebook_saving.Notebook\"\n    // IPython event is triggered only after the cells have been serialised, which for\n    // our purposes (turning an active figure into a static one), is too late.\n    var cells = IPython.notebook.get_cells();\n    var ncells = cells.length;\n    for (var i = 0; i < ncells; i++) {\n        var cell = cells[i];\n        if (cell.cell_type === 'code') {\n            for (var j = 0; j < cell.output_area.outputs.length; j++) {\n                var data = cell.output_area.outputs[j];\n                if (data.data) {\n                    // IPython >= 3 moved mimebundle to data attribute of output\n                    data = data.data;\n                }\n                if (data['text/html'] === html_output) {\n                    return [cell, data, j];\n                }\n            }\n        }\n    }\n};\n\n// Register the function which deals with the matplotlib target/channel.\n// The kernel may be null if the page has been refreshed.\nif (IPython.notebook.kernel !== null) {\n    IPython.notebook.kernel.comm_manager.register_target(\n        'matplotlib',\n        mpl.mpl_figure_comm\n    );\n}\n",
      "text/plain": [
       "<IPython.core.display.Javascript object>"
      ]
     },
     "metadata": {},
     "output_type": "display_data"
    },
    {
     "data": {
      "text/html": [
       "<img src=\"data:image/png;base64,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\" width=\"640\">"
      ],
      "text/plain": [
       "<IPython.core.display.HTML object>"
      ]
     },
     "metadata": {},
     "output_type": "display_data"
    },
    {
     "data": {
      "text/plain": [
       "[<AxesSubplot:xlabel='Time (s)', ylabel='Joint coordinates (rad,m)'>]"
      ]
     },
     "execution_count": 25,
     "metadata": {},
     "output_type": "execute_result"
    }
   ],
   "source": [
    "traj = jtraj(puma.qz, puma.qr, 100)\n",
    "qplot(traj.q)"
   ]
  },
  {
   "cell_type": "code",
   "execution_count": 26,
   "metadata": {},
   "outputs": [
    {
     "data": {
      "text/plain": [
       "  \u001b[38;5;1m 1       \u001b[0m \u001b[38;5;1m 0       \u001b[0m \u001b[38;5;1m 0       \u001b[0m \u001b[38;5;4m 0.6     \u001b[0m  \u001b[0m\n",
       "  \u001b[38;5;1m 0       \u001b[0m \u001b[38;5;1m 1       \u001b[0m \u001b[38;5;1m 0       \u001b[0m \u001b[38;5;4m-0.5     \u001b[0m  \u001b[0m\n",
       "  \u001b[38;5;1m 0       \u001b[0m \u001b[38;5;1m 0       \u001b[0m \u001b[38;5;1m 1       \u001b[0m \u001b[38;5;4m 0.3     \u001b[0m  \u001b[0m\n",
       "  \u001b[38;5;244m 0       \u001b[0m \u001b[38;5;244m 0       \u001b[0m \u001b[38;5;244m 0       \u001b[0m \u001b[38;5;244m 1       \u001b[0m  \u001b[0m\n"
      ]
     },
     "execution_count": 26,
     "metadata": {},
     "output_type": "execute_result"
    }
   ],
   "source": [
    "t = np.arange(0, 2, 0.010)\n",
    "T0 = SE3(0.6, -0.5, 0.3)"
   ]
  },
  {
   "cell_type": "code",
   "execution_count": 27,
   "metadata": {},
   "outputs": [
    {
     "data": {
      "text/plain": [
       "  \u001b[38;5;1m 1       \u001b[0m \u001b[38;5;1m 0       \u001b[0m \u001b[38;5;1m 0       \u001b[0m \u001b[38;5;4m 0.4     \u001b[0m  \u001b[0m\n",
       "  \u001b[38;5;1m 0       \u001b[0m \u001b[38;5;1m 1       \u001b[0m \u001b[38;5;1m 0       \u001b[0m \u001b[38;5;4m 0.5     \u001b[0m  \u001b[0m\n",
       "  \u001b[38;5;1m 0       \u001b[0m \u001b[38;5;1m 0       \u001b[0m \u001b[38;5;1m 1       \u001b[0m \u001b[38;5;4m 0.2     \u001b[0m  \u001b[0m\n",
       "  \u001b[38;5;244m 0       \u001b[0m \u001b[38;5;244m 0       \u001b[0m \u001b[38;5;244m 0       \u001b[0m \u001b[38;5;244m 1       \u001b[0m  \u001b[0m\n"
      ]
     },
     "execution_count": 27,
     "metadata": {},
     "output_type": "execute_result"
    }
   ],
   "source": [
    "T1 = SE3(0.4, 0.5, 0.2)"
   ]
  },
  {
   "cell_type": "code",
   "execution_count": 28,
   "metadata": {},
   "outputs": [
    {
     "data": {
      "text/plain": [
       "200"
      ]
     },
     "execution_count": 28,
     "metadata": {},
     "output_type": "execute_result"
    }
   ],
   "source": [
    "Ts = ctraj(T0, T1, t)\n",
    "len(Ts)"
   ]
  },
  {
   "cell_type": "code",
   "execution_count": 29,
   "metadata": {},
   "outputs": [
    {
     "data": {
      "text/plain": [
       "(200, 6)"
      ]
     },
     "execution_count": 29,
     "metadata": {},
     "output_type": "execute_result"
    }
   ],
   "source": [
    "sol = puma.ikine_LM(Ts)\n",
    "sol.q.shape"
   ]
  },
  {
   "cell_type": "markdown",
   "metadata": {},
   "source": [
    "## C. Symbolic manipulation"
   ]
  },
  {
   "cell_type": "code",
   "execution_count": 30,
   "metadata": {},
   "outputs": [
    {
     "data": {
      "text/plain": [
       "array([[cos(ψ)*cos(ϴ), sin(φ)*sin(ϴ)*cos(ψ) - sin(ψ)*cos(φ), sin(φ)*sin(ψ) + sin(ϴ)*cos(φ)*cos(ψ)],\n",
       "       [sin(ψ)*cos(ϴ), sin(φ)*sin(ψ)*sin(ϴ) + cos(φ)*cos(ψ), -sin(φ)*cos(ψ) + sin(ψ)*sin(ϴ)*cos(φ)],\n",
       "       [-sin(ϴ), sin(φ)*cos(ϴ), cos(φ)*cos(ϴ)]], dtype=object)"
      ]
     },
     "execution_count": 30,
     "metadata": {},
     "output_type": "execute_result"
    }
   ],
   "source": [
    "import spatialmath.base.symbolic as sym\n",
    "phi, theta, psi = sym.symbol('φ, ϴ, ψ')\n",
    "rpy2r(phi, theta, psi)"
   ]
  },
  {
   "cell_type": "code",
   "execution_count": 31,
   "metadata": {},
   "outputs": [],
   "source": [
    "q = sym.symbol(\"q_:6\") # q = (q_1, q_2, ... q_5)\n",
    "T = puma.fkine(q);"
   ]
  },
  {
   "cell_type": "code",
   "execution_count": 32,
   "metadata": {},
   "outputs": [
    {
     "data": {
      "text/latex": [
       "$\\displaystyle 0.15005 \\sin{\\left(q_{0} \\right)} - 0.0203 \\sin{\\left(q_{1} \\right)} \\sin{\\left(q_{2} \\right)} \\cos{\\left(q_{0} \\right)} - 0.4318 \\sin{\\left(q_{1} \\right)} \\cos{\\left(q_{0} \\right)} \\cos{\\left(q_{2} \\right)} - 0.4318 \\sin{\\left(q_{2} \\right)} \\cos{\\left(q_{0} \\right)} \\cos{\\left(q_{1} \\right)} + 0.0203 \\cos{\\left(q_{0} \\right)} \\cos{\\left(q_{1} \\right)} \\cos{\\left(q_{2} \\right)} + 0.4318 \\cos{\\left(q_{0} \\right)} \\cos{\\left(q_{1} \\right)}$"
      ],
      "text/plain": [
       "0.15005*sin(q_0) - 0.0203*sin(q_1)*sin(q_2)*cos(q_0) - 0.4318*sin(q_1)*cos(q_0)*cos(q_2) - 0.4318*sin(q_2)*cos(q_0)*cos(q_1) + 0.0203*cos(q_0)*cos(q_1)*cos(q_2) + 0.4318*cos(q_0)*cos(q_1)"
      ]
     },
     "execution_count": 32,
     "metadata": {},
     "output_type": "execute_result"
    }
   ],
   "source": [
    "puma = models.DH.Puma560(symbolic=True)\n",
    "T = puma.fkine(q)\n",
    "T.t[0]"
   ]
  },
  {
   "cell_type": "code",
   "execution_count": 33,
   "metadata": {},
   "outputs": [
    {
     "data": {
      "text/plain": [
       "array([[ 1.50050000e-01,  1.43542677e-02,  3.19682976e-01,  0.00000000e+00,  0.00000000e+00,  0.00000000e+00],\n",
       "       [ 5.96303149e-01,  3.65130371e-17,  1.78170459e-17,  0.00000000e+00,  0.00000000e+00,  0.00000000e+00],\n",
       "       [-5.28447268e-18,  5.96303149e-01,  2.90974440e-01,  0.00000000e+00,  0.00000000e+00,  0.00000000e+00],\n",
       "       [-3.52180785e-17,  0.00000000e+00,  0.00000000e+00,  7.07106781e-01,  0.00000000e+00,  1.00000000e+00],\n",
       "       [ 6.86402876e-33, -1.00000000e+00, -1.00000000e+00, -1.04530143e-16, -1.00000000e+00, -6.12323400e-17],\n",
       "       [ 1.00000000e+00,  6.12323400e-17,  6.12323400e-17, -7.07106781e-01,  6.12323400e-17, -3.13396163e-16]])"
      ]
     },
     "execution_count": 33,
     "metadata": {},
     "output_type": "execute_result"
    }
   ],
   "source": [
    "puma = models.DH.Puma560(symbolic=False)\n",
    "J = puma.jacob0(puma.qn)"
   ]
  },
  {
   "cell_type": "code",
   "execution_count": 34,
   "metadata": {},
   "outputs": [
    {
     "data": {
      "text/plain": [
       "array([[-7.82536587e-17, -5.96303149e-01, -2.90974440e-01,  0.00000000e+00,  0.00000000e+00,  0.00000000e+00],\n",
       "       [ 5.96303149e-01,  8.78945397e-19,  1.95749367e-17,  0.00000000e+00,  0.00000000e+00,  0.00000000e+00],\n",
       "       [ 1.50050000e-01,  1.43542677e-02,  3.19682976e-01,  0.00000000e+00,  0.00000000e+00,  0.00000000e+00],\n",
       "       [-1.00000000e+00,  3.01573569e-33,  3.01573569e-33,  7.07106781e-01,  0.00000000e+00,  0.00000000e+00],\n",
       "       [-6.12323400e-17, -1.00000000e+00, -1.00000000e+00, -1.79345371e-17, -1.00000000e+00,  0.00000000e+00],\n",
       "       [-3.13396163e-16,  6.12323400e-17,  6.12323400e-17,  7.07106781e-01,  6.12323400e-17,  1.00000000e+00]])"
      ]
     },
     "execution_count": 34,
     "metadata": {},
     "output_type": "execute_result"
    }
   ],
   "source": [
    "J = puma.jacobe(puma.qn)"
   ]
  },
  {
   "cell_type": "markdown",
   "metadata": {},
   "source": [
    "## D. Differential kinematics"
   ]
  },
  {
   "cell_type": "code",
   "execution_count": 35,
   "metadata": {},
   "outputs": [
    {
     "data": {
      "text/plain": [
       "array([[ 1.5005000e-01, -8.6360000e-01, -4.3180000e-01,  0.0000000e+00,  0.0000000e+00,  0.0000000e+00],\n",
       "       [ 2.0300000e-02,  1.2430165e-18,  1.2430165e-18,  0.0000000e+00,  0.0000000e+00,  0.0000000e+00],\n",
       "       [ 0.0000000e+00,  2.0300000e-02,  2.0300000e-02,  0.0000000e+00,  0.0000000e+00,  0.0000000e+00],\n",
       "       [ 0.0000000e+00,  0.0000000e+00,  0.0000000e+00,  0.0000000e+00,  0.0000000e+00,  0.0000000e+00],\n",
       "       [ 0.0000000e+00, -1.0000000e+00, -1.0000000e+00,  0.0000000e+00, -1.0000000e+00,  0.0000000e+00],\n",
       "       [ 1.0000000e+00,  6.1232340e-17,  6.1232340e-17,  1.0000000e+00,  6.1232340e-17,  1.0000000e+00]])"
      ]
     },
     "execution_count": 35,
     "metadata": {},
     "output_type": "execute_result"
    }
   ],
   "source": [
    "J = puma.jacob0(puma.qr)"
   ]
  },
  {
   "cell_type": "code",
   "execution_count": 36,
   "metadata": {},
   "outputs": [
    {
     "data": {
      "text/plain": [
       "5"
      ]
     },
     "execution_count": 36,
     "metadata": {},
     "output_type": "execute_result"
    }
   ],
   "source": [
    "np.linalg.matrix_rank(J)"
   ]
  },
  {
   "cell_type": "code",
   "execution_count": 37,
   "metadata": {},
   "outputs": [
    {
     "name": "stdout",
     "output_type": "stream",
     "text": [
      "joint 5 is dependent on joint 3\n"
     ]
    }
   ],
   "source": [
    "jsingu(J)"
   ]
  },
  {
   "cell_type": "code",
   "execution_count": 38,
   "metadata": {},
   "outputs": [
    {
     "data": {
      "text/plain": [
       "(6, 7, 7)"
      ]
     },
     "execution_count": 38,
     "metadata": {},
     "output_type": "execute_result"
    }
   ],
   "source": [
    "H = panda.hessian0(panda.qz)\n",
    "H.shape"
   ]
  },
  {
   "cell_type": "code",
   "execution_count": 39,
   "metadata": {},
   "outputs": [
    {
     "data": {
      "text/plain": [
       "0.07861716534599998"
      ]
     },
     "execution_count": 39,
     "metadata": {},
     "output_type": "execute_result"
    }
   ],
   "source": [
    "puma.manipulability(puma.qn)"
   ]
  },
  {
   "cell_type": "code",
   "execution_count": 40,
   "metadata": {},
   "outputs": [
    {
     "data": {
      "text/plain": [
       "0.0043746137281665"
      ]
     },
     "execution_count": 40,
     "metadata": {},
     "output_type": "execute_result"
    }
   ],
   "source": [
    "puma.manipulability(puma.qn, method=\"asada\")"
   ]
  },
  {
   "cell_type": "code",
   "execution_count": 41,
   "metadata": {},
   "outputs": [
    {
     "data": {
      "text/plain": [
       "0.11118146146764128"
      ]
     },
     "execution_count": 41,
     "metadata": {},
     "output_type": "execute_result"
    }
   ],
   "source": [
    "puma.manipulability(puma.qn, axes=\"trans\")"
   ]
  },
  {
   "cell_type": "code",
   "execution_count": 42,
   "metadata": {
    "lines_to_next_cell": 2
   },
   "outputs": [
    {
     "data": {
      "text/plain": [
       "array([[-1.23259516e-32],\n",
       "       [-2.62678438e-03],\n",
       "       [-1.48554870e-17],\n",
       "       [ 4.06398364e-02],\n",
       "       [ 4.44870139e-18],\n",
       "       [-2.73383661e-02],\n",
       "       [-5.54667824e-32]])"
      ]
     },
     "execution_count": 42,
     "metadata": {},
     "output_type": "execute_result"
    }
   ],
   "source": [
    "panda.jacobm(panda.qr)"
   ]
  },
  {
   "cell_type": "markdown",
   "metadata": {},
   "source": [
    "## E. Dynamics"
   ]
  },
  {
   "cell_type": "code",
   "execution_count": 43,
   "metadata": {
    "lines_to_next_cell": 2
   },
   "outputs": [
    {
     "data": {
      "text/plain": [
       "array([-1.61532977e-15,  3.16398804e+01,  6.03513802e+00,  8.34761258e-18,  2.82528000e-02,  0.00000000e+00])"
      ]
     },
     "execution_count": 43,
     "metadata": {},
     "output_type": "execute_result"
    }
   ],
   "source": [
    "tau = puma.rne(puma.qn, np.zeros((6,)), np.zeros((6,)))"
   ]
  },
  {
   "cell_type": "code",
   "execution_count": 44,
   "metadata": {
    "lines_to_next_cell": 2
   },
   "outputs": [
    {
     "data": {
      "text/plain": [
       "array([[ 3.65937541e+00, -4.04361246e-01,  1.00613648e-01, -2.51695583e-03,  2.79129133e-19, -1.11022302e-20],\n",
       "       [-4.04361246e-01,  4.41374193e+00,  3.50890665e-01,  5.95529431e-19,  2.35951307e-03,  2.44929360e-21],\n",
       "       [ 1.00613648e-01,  3.50890665e-01,  9.37841575e-01,  5.41684976e-19,  1.48016639e-03,  2.44929360e-21],\n",
       "       [-2.51695583e-03,  5.95529431e-19,  5.41684976e-19,  1.92531706e-01,  2.62380953e-20,  2.82842712e-05],\n",
       "       [ 2.52898724e-19,  2.35951307e-03,  1.48016639e-03,  2.62380953e-20,  1.71348452e-01,  2.44929360e-21],\n",
       "       [-1.01643954e-20,  2.44929360e-21,  2.44929360e-21,  2.82842712e-05,  2.44929360e-21,  1.94104506e-01]])"
      ]
     },
     "execution_count": 44,
     "metadata": {},
     "output_type": "execute_result"
    }
   ],
   "source": [
    "J = puma.inertia(puma.qn)"
   ]
  },
  {
   "cell_type": "code",
   "execution_count": 45,
   "metadata": {
    "lines_to_next_cell": 2
   },
   "outputs": [
    {
     "data": {
      "text/plain": [
       "array([[-2.66969622e-02, -1.29059829e-01,  1.69557253e-02, -3.34419803e-05, -2.78929620e-04,  6.00000000e-06],\n",
       "       [ 6.27416462e-02,  3.85714300e-02,  7.71469941e-02, -1.55223544e-04, -1.24020873e-05, -5.85786438e-07],\n",
       "       [-3.60731378e-02, -3.86676328e-02, -9.20686970e-05, -9.30443443e-05, -2.76206091e-04, -5.85786438e-07],\n",
       "       [ 4.00101338e-05,  5.71808764e-05, -4.99832360e-06,  1.01080000e-05,  2.42501356e-05, -4.24264069e-06],\n",
       "       [-1.75563492e-05,  9.62027261e-05,  1.84137394e-04, -2.42501356e-05, -1.35525272e-21, -5.85786438e-07],\n",
       "       [ 6.00000000e-06,  3.41421356e-06,  3.41421356e-06,  1.41421356e-06,  5.85786438e-07,  0.00000000e+00]])"
      ]
     },
     "execution_count": 45,
     "metadata": {},
     "output_type": "execute_result"
    }
   ],
   "source": [
    "C = puma.coriolis(puma.qn, 0.1 * np.ones((6,)))"
   ]
  },
  {
   "cell_type": "code",
   "execution_count": 46,
   "metadata": {
    "lines_to_next_cell": 2
   },
   "outputs": [
    {
     "data": {
      "text/plain": [
       "array([-1.61532977e-15,  3.16398804e+01,  6.03513802e+00,  8.34761258e-18,  2.82528000e-02,  0.00000000e+00])"
      ]
     },
     "execution_count": 46,
     "metadata": {},
     "output_type": "execute_result"
    }
   ],
   "source": [
    "g = puma.gravload(puma.qn)"
   ]
  },
  {
   "cell_type": "code",
   "execution_count": 47,
   "metadata": {
    "lines_to_next_cell": 2
   },
   "outputs": [
    {
     "data": {
      "text/plain": [
       "array([ 1.47558948e+02, -1.33667778e+02,  4.06355199e+02, -2.49417795e+00, -8.28105260e+00,  3.63443421e-04])"
      ]
     },
     "execution_count": 47,
     "metadata": {},
     "output_type": "execute_result"
    }
   ],
   "source": [
    "qdd = puma.accel(puma.qn, tau, np.zeros((6,)))"
   ]
  },
  {
   "cell_type": "markdown",
   "metadata": {},
   "source": [
    "# V. NEW CAPABILITY\n",
    "## B. Collision checking"
   ]
  },
  {
   "cell_type": "code",
   "execution_count": 48,
   "metadata": {},
   "outputs": [
    {
     "data": {
      "text/plain": [
       "False"
      ]
     },
     "execution_count": 48,
     "metadata": {},
     "output_type": "execute_result"
    }
   ],
   "source": [
    "from spatialgeometry import Box\n",
    "obstacle = Box([1, 1, 1], base=SE3(1, 0, 0)) \n",
    "iscollision = panda.collided(panda.qr, obstacle) # boolean\n",
    "iscollision = panda.links[0].collided(obstacle)"
   ]
  },
  {
   "cell_type": "code",
   "execution_count": 49,
   "metadata": {},
   "outputs": [
    {
     "name": "stdout",
     "output_type": "stream",
     "text": [
      "0.015720599440705682 [ 0.49052377 -0.05996266  0.51203177  1.        ] [ 0.50037345 -0.05996266  0.49977938  1.        ]\n",
      "0.5 [ 5.55111512e-17 -2.96851076e-18  6.00000000e-02  1.00000000e+00] [ 5.00000000e-01 -2.77061004e-17  6.00000000e-02  1.00000000e+00]\n"
     ]
    }
   ],
   "source": [
    "d, p1, p2 = panda.closest_point(panda.qr, obstacle)\n",
    "print(d, p1, p2)\n",
    "d, p1, p2 = panda.links[0].closest_point(obstacle)\n",
    "print(d, p1, p2)"
   ]
  },
  {
   "cell_type": "markdown",
   "metadata": {},
   "source": [
    "## C. Interfaces"
   ]
  },
  {
   "cell_type": "code",
   "execution_count": 50,
   "metadata": {},
   "outputs": [
    {
     "name": "stdout",
     "output_type": "stream",
     "text": [
      "/Users/corkep/Dropbox/code/swift/swift/out\n"
     ]
    }
   ],
   "source": [
    "panda.plot(panda.qr, block=False);"
   ]
  },
  {
   "cell_type": "code",
   "execution_count": null,
   "metadata": {},
   "outputs": [],
   "source": [
    "from roboticstoolbox.backends.swift import Swift\n",
    "backend = Swift()\n",
    "backend.launch()   # create graphical world\n",
    "backend.add(panda) # add robot to the world\n",
    "panda.q = panda.qr        # update the robot\n",
    "backend.step()    # display the world"
   ]
  }
 ],
 "metadata": {
  "jupytext": {
   "cell_metadata_filter": "-all",
   "encoding": "# -*- coding: utf-8 -*-",
   "notebook_metadata_filter": "-all",
   "text_representation": {
    "extension": ".py",
    "format_name": "light"
   }
  },
  "kernelspec": {
   "display_name": "Python 3",
   "language": "python",
   "name": "python3"
  },
  "language_info": {
   "codemirror_mode": {
    "name": "ipython",
    "version": 3
   },
   "file_extension": ".py",
   "mimetype": "text/x-python",
   "name": "python",
   "nbconvert_exporter": "python",
   "pygments_lexer": "ipython3",
   "version": "3.10.13"
  },
  "varInspector": {
   "cols": {
    "lenName": 16,
    "lenType": 16,
    "lenVar": 40
   },
   "kernels_config": {
    "python": {
     "delete_cmd_postfix": "",
     "delete_cmd_prefix": "del ",
     "library": "var_list.py",
     "varRefreshCmd": "print(var_dic_list())"
    },
    "r": {
     "delete_cmd_postfix": ") ",
     "delete_cmd_prefix": "rm(",
     "library": "var_list.r",
     "varRefreshCmd": "cat(var_dic_list()) "
    }
   },
   "types_to_exclude": [
    "module",
    "function",
    "builtin_function_or_method",
    "instance",
    "_Feature"
   ],
   "window_display": false
  }
 },
 "nbformat": 4,
 "nbformat_minor": 4
}
